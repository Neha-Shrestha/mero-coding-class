{
 "cells": [
  {
   "cell_type": "markdown",
   "id": "c23da149",
   "metadata": {},
   "source": [
    "## 1. Warm-Up\n",
    "**Discussion:**\n",
    "- What is data handling?\n",
    "- Why do we need Pandas?\n",
    "- How is Pandas different from NumPy?\n",
    "\n",
    "**Quick Demo:**\n",
    "We start by importing the pandas library and checking its version."
   ]
  },
  {
   "cell_type": "code",
   "execution_count": null,
   "id": "55b0e776",
   "metadata": {},
   "outputs": [],
   "source": []
  },
  {
   "cell_type": "code",
   "execution_count": null,
   "id": "a3ca084d",
   "metadata": {},
   "outputs": [],
   "source": [
    "import pandas as pd\n",
    "print(pd.__version__)  # Check Pandas version"
   ]
  },
  {
   "cell_type": "markdown",
   "id": "dcc60ee4",
   "metadata": {},
   "source": [
    "## 2. Introduction to Pandas\n",
    "### What is Pandas?\n",
    "Pandas is a powerful Python library used for data manipulation and analysis. It provides two primary data structures:\n",
    "- **Series**: A one-dimensional labeled array.\n",
    "- **DataFrame**: A two-dimensional labeled data structure, like a table or spreadsheet.\n",
    "\n",
    "Let's start with a **Series** example."
   ]
  },
  {
   "cell_type": "code",
   "execution_count": null,
   "id": "3b739f51",
   "metadata": {},
   "outputs": [],
   "source": [
    "data = [10, 20, 30, 40]\n",
    "series = pd.Series(data)\n",
    "print(series)"
   ]
  },
  {
   "cell_type": "markdown",
   "id": "bb947ea4",
   "metadata": {},
   "source": [
    "### Creating a DataFrame\n",
    "Imagine you're creating a simple table with information about people."
   ]
  },
  {
   "cell_type": "code",
   "execution_count": null,
   "id": "e74a5141",
   "metadata": {},
   "outputs": [],
   "source": [
    "data = {'Name': ['Alice', 'Bob', 'Charlie'],\n",
    "        'Age': [25, 30, 35],\n",
    "        'City': ['NY', 'LA', 'Chicago']}\n",
    "df = pd.DataFrame(data)\n",
    "print(df)"
   ]
  },
  {
   "cell_type": "markdown",
   "id": "63bc40d6",
   "metadata": {},
   "source": [
    "### Activity:\n",
    "Create a Pandas Series and a DataFrame with student names and marks."
   ]
  },
  {
   "cell_type": "code",
   "execution_count": null,
   "id": "7bc3c5af",
   "metadata": {},
   "outputs": [],
   "source": [
    "# Your code here\n",
    "student_data = {'Name': ['John', 'Emma', 'Ryan'],\n",
    "                'Marks': [85, 90, 78]}\n",
    "students_df = pd.DataFrame(student_data)\n",
    "print(students_df)"
   ]
  },
  {
   "cell_type": "markdown",
   "id": "492d8558",
   "metadata": {},
   "source": [
    "## 3. Reading and Writing CSV & Excel Files\n",
    "Pandas makes it easy to read and write data files like CSV and Excel.\n",
    "\n",
    "### Reading a CSV File\n",
    "Make sure `data.csv` exists in your working directory."
   ]
  },
  {
   "cell_type": "code",
   "execution_count": null,
   "id": "afabc905",
   "metadata": {},
   "outputs": [],
   "source": [
    "df_csv = pd.read_csv('data.csv')\n",
    "print(df_csv.head())"
   ]
  },
  {
   "cell_type": "markdown",
   "id": "0616c776",
   "metadata": {},
   "source": [
    "### Reading an Excel File\n",
    "Make sure `data.xlsx` exists in your working directory."
   ]
  },
  {
   "cell_type": "code",
   "execution_count": null,
   "id": "b2b55926",
   "metadata": {},
   "outputs": [],
   "source": [
    "df_excel = pd.read_excel('data.xlsx', sheet_name='Sheet1')\n",
    "print(df_excel.head())"
   ]
  },
  {
   "cell_type": "markdown",
   "id": "233b1a7d",
   "metadata": {},
   "source": [
    "### Writing to CSV and Excel Files"
   ]
  },
  {
   "cell_type": "code",
   "execution_count": null,
   "id": "432be06b",
   "metadata": {},
   "outputs": [],
   "source": [
    "df_csv.to_csv('output.csv', index=False)\n",
    "df_excel.to_excel('output.xlsx', index=False, sheet_name='Results')"
   ]
  },
  {
   "cell_type": "markdown",
   "id": "8a860676",
   "metadata": {},
   "source": [
    "### Activity:\n",
    "Read a dataset from a CSV file and display its first few rows."
   ]
  },
  {
   "cell_type": "code",
   "execution_count": null,
   "id": "49071da8",
   "metadata": {},
   "outputs": [],
   "source": [
    "# Your code here\n",
    "data = pd.read_csv('sample.csv')\n",
    "print(data.head())"
   ]
  },
  {
   "cell_type": "markdown",
   "id": "43337371",
   "metadata": {},
   "source": [
    "## 4. Data Cleaning and Preprocessing\n",
    "### Handling Missing Values"
   ]
  },
  {
   "cell_type": "code",
   "execution_count": null,
   "id": "d5aec0c3",
   "metadata": {},
   "outputs": [],
   "source": [
    "df.dropna(inplace=True)  # Remove rows with missing values\n",
    "df.fillna(0, inplace=True)  # Fill missing values with 0"
   ]
  },
  {
   "cell_type": "markdown",
   "id": "57f8d4e6",
   "metadata": {},
   "source": [
    "### Removing Duplicate Data"
   ]
  },
  {
   "cell_type": "code",
   "execution_count": null,
   "id": "0afd9ec8",
   "metadata": {},
   "outputs": [],
   "source": [
    "df.drop_duplicates(inplace=True)"
   ]
  },
  {
   "cell_type": "markdown",
   "id": "7788a11f",
   "metadata": {},
   "source": [
    "### Renaming Columns"
   ]
  },
  {
   "cell_type": "code",
   "execution_count": null,
   "id": "6046e039",
   "metadata": {},
   "outputs": [],
   "source": [
    "df.rename(columns={'OldName': 'NewName'}, inplace=True)"
   ]
  },
  {
   "cell_type": "markdown",
   "id": "5c39d5d0",
   "metadata": {},
   "source": [
    "### Changing Column Data Types"
   ]
  },
  {
   "cell_type": "code",
   "execution_count": null,
   "id": "7d5dee43",
   "metadata": {},
   "outputs": [],
   "source": [
    "df['Age'] = df['Age'].astype(int)"
   ]
  },
  {
   "cell_type": "markdown",
   "id": "7e039b66",
   "metadata": {},
   "source": [
    "### Activity:\n",
    "Clean a dataset by removing duplicates and handling missing values."
   ]
  },
  {
   "cell_type": "code",
   "execution_count": null,
   "id": "018063b1",
   "metadata": {},
   "outputs": [],
   "source": [
    "# Your code here\n",
    "df = pd.read_csv('unclean_data.csv')\n",
    "df.drop_duplicates(inplace=True)\n",
    "df.fillna(0, inplace=True)\n",
    "print(df.head())"
   ]
  },
  {
   "cell_type": "markdown",
   "id": "e815cf40",
   "metadata": {},
   "source": [
    "## 5. Data Analysis with Pandas\n",
    "### Filtering and Sorting Data"
   ]
  },
  {
   "cell_type": "code",
   "execution_count": null,
   "id": "801eeae7",
   "metadata": {},
   "outputs": [],
   "source": [
    "adults = df[df['Age'] > 18]\n",
    "print(adults)"
   ]
  },
  {
   "cell_type": "markdown",
   "id": "125b4407",
   "metadata": {},
   "source": [
    "### Sorting Data"
   ]
  },
  {
   "cell_type": "code",
   "execution_count": null,
   "id": "2afb4511",
   "metadata": {},
   "outputs": [],
   "source": [
    "df.sort_values(by='Age', ascending=False, inplace=True)"
   ]
  },
  {
   "cell_type": "markdown",
   "id": "50d2de6e",
   "metadata": {},
   "source": [
    "### Aggregation Functions"
   ]
  },
  {
   "cell_type": "code",
   "execution_count": null,
   "id": "51b24d88",
   "metadata": {},
   "outputs": [],
   "source": [
    "print(df['Age'].mean())  # Average age\n",
    "print(df['City'].value_counts())  # Count per city"
   ]
  },
  {
   "cell_type": "markdown",
   "id": "1fde64bc",
   "metadata": {},
   "source": [
    "### Activity:\n",
    "Find the average age and count the number of people from each city in a dataset."
   ]
  },
  {
   "cell_type": "code",
   "execution_count": null,
   "id": "e55b545a",
   "metadata": {},
   "outputs": [],
   "source": [
    "# Your code here\n",
    "print(df['Age'].mean())\n",
    "print(df['City'].value_counts())"
   ]
  },
  {
   "cell_type": "markdown",
   "id": "a92c5ce3",
   "metadata": {},
   "source": [
    "## 6. Wrap-Up and Homework\n",
    "### Recap:\n",
    "- Basics of Pandas\n",
    "- Reading and writing files\n",
    "- Data cleaning and preprocessing\n",
    "- Data analysis\n",
    "\n",
    "### Homework:\n",
    "1. Load a CSV file and display the first 10 rows.\n",
    "2. Remove duplicate rows and handle missing values in a dataset.\n",
    "3. Sort a dataset by age and find the total number of people from each city."
   ]
  },
  {
   "cell_type": "code",
   "execution_count": null,
   "id": "aae2809d",
   "metadata": {},
   "outputs": [],
   "source": [
    "# Homework sample code\n",
    "df_homework = pd.read_csv('homework.csv')\n",
    "print(df_homework.head(10))\n",
    "df_homework.drop_duplicates(inplace=True)\n",
    "df_homework.fillna(0, inplace=True)\n",
    "df_homework.sort_values(by='Age', inplace=True)\n",
    "print(df_homework['City'].value_counts())"
   ]
  }
 ],
 "metadata": {
  "language_info": {
   "name": "python"
  }
 },
 "nbformat": 4,
 "nbformat_minor": 5
}
