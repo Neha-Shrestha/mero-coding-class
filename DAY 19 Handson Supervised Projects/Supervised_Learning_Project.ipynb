{
 "cells": [
  {
   "cell_type": "markdown",
   "id": "94510b16",
   "metadata": {},
   "source": [
    "# Supervised Learning Project - Jupyter Notebook\n",
    "\n",
    "This notebook will walk through a hands-on supervised learning project.\n",
    "Detailed theoretical explanations and code explanations are provided step-by-step."
   ]
  },
  {
   "cell_type": "markdown",
   "id": "8184e3f7",
   "metadata": {},
   "source": [
    "## 1. Introduction to Supervised Learning Project\n",
    "\n",
    "**Supervised Learning** is a type of machine learning where the model is trained on labeled data.\n",
    "\n",
    "**Labeled data** means each input (feature) has a known output (label or target).\n",
    "\n",
    "The model learns to map the input to the correct output during training.\n",
    "\n",
    "### Key Components:\n",
    "- **Training a Model:** The model learns from the provided data.\n",
    "- **Testing a Model:** The model is evaluated using unseen data.\n",
    "- **Performance Metrics:** Accuracy, Precision, Recall, F1-score, etc.\n",
    "\n",
    "### Objective:\n",
    "We will build a machine learning model using a dataset, evaluate it, and then improve its performance using ensemble methods."
   ]
  },
  {
   "cell_type": "markdown",
   "id": "aabfd2db",
   "metadata": {},
   "source": [
    "## 2. Building the Model"
   ]
  },
  {
   "cell_type": "markdown",
   "id": "a0db7e7d",
   "metadata": {},
   "source": [
    "### Step 1: Import Necessary Libraries\n",
    "\n",
    "Explanation:\n",
    "- `pandas`: For data manipulation.\n",
    "- `numpy`: For numerical operations.\n",
    "- `sklearn`: For machine learning algorithms and evaluation.\n",
    "- `matplotlib`: For visualization."
   ]
  },
  {
   "cell_type": "code",
   "execution_count": 1,
   "id": "9a7d5560",
   "metadata": {},
   "outputs": [],
   "source": [
    "import pandas as pd\n",
    "import numpy as np\n",
    "import matplotlib.pyplot as plt\n",
    "from sklearn.model_selection import train_test_split\n",
    "from sklearn.ensemble import RandomForestClassifier\n",
    "from sklearn.metrics import accuracy_score, confusion_matrix, classification_report"
   ]
  },
  {
   "cell_type": "markdown",
   "id": "70b9dec4",
   "metadata": {},
   "source": [
    "### Step 2: Load and Understand the Dataset\n",
    "\n",
    "Explanation:\n",
    "- The Iris dataset is a well-known classification dataset.\n",
    "- It contains measurements of different types of iris flowers."
   ]
  },
  {
   "cell_type": "code",
   "execution_count": 2,
   "id": "2118b24c",
   "metadata": {},
   "outputs": [],
   "source": [
    "df = pd.read_csv('movie_genre_classification_final.csv')"
   ]
  },
  {
   "cell_type": "code",
   "execution_count": 3,
   "id": "68592389",
   "metadata": {},
   "outputs": [
    {
     "data": {
      "text/plain": [
       "Title                 0\n",
       "Year                  0\n",
       "Director              0\n",
       "Duration              0\n",
       "Rating                0\n",
       "Votes                 0\n",
       "Description           0\n",
       "Language              0\n",
       "Country               0\n",
       "Budget_USD            0\n",
       "BoxOffice_USD         0\n",
       "Genre                 0\n",
       "Production_Company    0\n",
       "Content_Rating        0\n",
       "Lead_Actor            0\n",
       "Num_Awards            0\n",
       "Critic_Reviews        0\n",
       "dtype: int64"
      ]
     },
     "execution_count": 3,
     "metadata": {},
     "output_type": "execute_result"
    }
   ],
   "source": [
    "df.isnull().sum()"
   ]
  },
  {
   "cell_type": "code",
   "execution_count": 4,
   "id": "9e301c1f",
   "metadata": {},
   "outputs": [
    {
     "data": {
      "text/html": [
       "<div>\n",
       "<style scoped>\n",
       "    .dataframe tbody tr th:only-of-type {\n",
       "        vertical-align: middle;\n",
       "    }\n",
       "\n",
       "    .dataframe tbody tr th {\n",
       "        vertical-align: top;\n",
       "    }\n",
       "\n",
       "    .dataframe thead th {\n",
       "        text-align: right;\n",
       "    }\n",
       "</style>\n",
       "<table border=\"1\" class=\"dataframe\">\n",
       "  <thead>\n",
       "    <tr style=\"text-align: right;\">\n",
       "      <th></th>\n",
       "      <th>Title</th>\n",
       "      <th>Year</th>\n",
       "      <th>Director</th>\n",
       "      <th>Duration</th>\n",
       "      <th>Rating</th>\n",
       "      <th>Votes</th>\n",
       "      <th>Description</th>\n",
       "      <th>Language</th>\n",
       "      <th>Country</th>\n",
       "      <th>Budget_USD</th>\n",
       "      <th>BoxOffice_USD</th>\n",
       "      <th>Genre</th>\n",
       "      <th>Production_Company</th>\n",
       "      <th>Content_Rating</th>\n",
       "      <th>Lead_Actor</th>\n",
       "      <th>Num_Awards</th>\n",
       "      <th>Critic_Reviews</th>\n",
       "    </tr>\n",
       "  </thead>\n",
       "  <tbody>\n",
       "    <tr>\n",
       "      <th>0</th>\n",
       "      <td>Winds of Fate 4</td>\n",
       "      <td>1980</td>\n",
       "      <td>R. Lee</td>\n",
       "      <td>167</td>\n",
       "      <td>4.1</td>\n",
       "      <td>182425</td>\n",
       "      <td>A touching love story with heartwarming moments.</td>\n",
       "      <td>Spanish</td>\n",
       "      <td>China</td>\n",
       "      <td>39979615</td>\n",
       "      <td>179936008</td>\n",
       "      <td>Romance</td>\n",
       "      <td>DreamWorks</td>\n",
       "      <td>R</td>\n",
       "      <td>Kangana Ranaut</td>\n",
       "      <td>8</td>\n",
       "      <td>229</td>\n",
       "    </tr>\n",
       "    <tr>\n",
       "      <th>1</th>\n",
       "      <td>Firestorm 11</td>\n",
       "      <td>2014</td>\n",
       "      <td>S. Chen</td>\n",
       "      <td>166</td>\n",
       "      <td>4.1</td>\n",
       "      <td>449351</td>\n",
       "      <td>A fast-paced thriller with intense action scenes.</td>\n",
       "      <td>Korean</td>\n",
       "      <td>China</td>\n",
       "      <td>116404774</td>\n",
       "      <td>802121619</td>\n",
       "      <td>Action</td>\n",
       "      <td>Netflix</td>\n",
       "      <td>R</td>\n",
       "      <td>Kangana Ranaut</td>\n",
       "      <td>20</td>\n",
       "      <td>466</td>\n",
       "    </tr>\n",
       "    <tr>\n",
       "      <th>2</th>\n",
       "      <td>Silent Echo 2</td>\n",
       "      <td>2016</td>\n",
       "      <td>A. Khan</td>\n",
       "      <td>170</td>\n",
       "      <td>4.1</td>\n",
       "      <td>363328</td>\n",
       "      <td>A fast-paced thriller with intense action scenes.</td>\n",
       "      <td>Korean</td>\n",
       "      <td>Japan</td>\n",
       "      <td>166261330</td>\n",
       "      <td>225526871</td>\n",
       "      <td>Action</td>\n",
       "      <td>Pixar</td>\n",
       "      <td>PG</td>\n",
       "      <td>Amitabh Bachchan</td>\n",
       "      <td>16</td>\n",
       "      <td>539</td>\n",
       "    </tr>\n",
       "    <tr>\n",
       "      <th>3</th>\n",
       "      <td>City Lights 4</td>\n",
       "      <td>1982</td>\n",
       "      <td>L. Zhang</td>\n",
       "      <td>170</td>\n",
       "      <td>9.9</td>\n",
       "      <td>62371</td>\n",
       "      <td>An emotional journey exploring complex charact...</td>\n",
       "      <td>Japanese</td>\n",
       "      <td>Japan</td>\n",
       "      <td>28861315</td>\n",
       "      <td>69813738</td>\n",
       "      <td>Drama</td>\n",
       "      <td>Netflix</td>\n",
       "      <td>NC-17</td>\n",
       "      <td>Natalie Portman</td>\n",
       "      <td>15</td>\n",
       "      <td>606</td>\n",
       "    </tr>\n",
       "    <tr>\n",
       "      <th>4</th>\n",
       "      <td>Broken Truth 1</td>\n",
       "      <td>1990</td>\n",
       "      <td>L. Zhang</td>\n",
       "      <td>91</td>\n",
       "      <td>5.3</td>\n",
       "      <td>4600</td>\n",
       "      <td>An imaginative world filled with magic and won...</td>\n",
       "      <td>Korean</td>\n",
       "      <td>USA</td>\n",
       "      <td>43890403</td>\n",
       "      <td>375136716</td>\n",
       "      <td>Fantasy</td>\n",
       "      <td>Studio Ghibli</td>\n",
       "      <td>PG</td>\n",
       "      <td>Chris Evans</td>\n",
       "      <td>6</td>\n",
       "      <td>330</td>\n",
       "    </tr>\n",
       "  </tbody>\n",
       "</table>\n",
       "</div>"
      ],
      "text/plain": [
       "             Title  Year  Director  Duration  Rating   Votes  \\\n",
       "0  Winds of Fate 4  1980    R. Lee       167     4.1  182425   \n",
       "1     Firestorm 11  2014   S. Chen       166     4.1  449351   \n",
       "2    Silent Echo 2  2016   A. Khan       170     4.1  363328   \n",
       "3    City Lights 4  1982  L. Zhang       170     9.9   62371   \n",
       "4   Broken Truth 1  1990  L. Zhang        91     5.3    4600   \n",
       "\n",
       "                                         Description  Language Country  \\\n",
       "0   A touching love story with heartwarming moments.   Spanish   China   \n",
       "1  A fast-paced thriller with intense action scenes.    Korean   China   \n",
       "2  A fast-paced thriller with intense action scenes.    Korean   Japan   \n",
       "3  An emotional journey exploring complex charact...  Japanese   Japan   \n",
       "4  An imaginative world filled with magic and won...    Korean     USA   \n",
       "\n",
       "   Budget_USD  BoxOffice_USD    Genre Production_Company Content_Rating  \\\n",
       "0    39979615      179936008  Romance         DreamWorks              R   \n",
       "1   116404774      802121619   Action            Netflix              R   \n",
       "2   166261330      225526871   Action              Pixar             PG   \n",
       "3    28861315       69813738    Drama            Netflix          NC-17   \n",
       "4    43890403      375136716  Fantasy      Studio Ghibli             PG   \n",
       "\n",
       "         Lead_Actor  Num_Awards  Critic_Reviews  \n",
       "0    Kangana Ranaut           8             229  \n",
       "1    Kangana Ranaut          20             466  \n",
       "2  Amitabh Bachchan          16             539  \n",
       "3   Natalie Portman          15             606  \n",
       "4       Chris Evans           6             330  "
      ]
     },
     "execution_count": 4,
     "metadata": {},
     "output_type": "execute_result"
    }
   ],
   "source": [
    "df.head()"
   ]
  },
  {
   "cell_type": "code",
   "execution_count": 5,
   "id": "03ec8ec3",
   "metadata": {},
   "outputs": [],
   "source": [
    "X = df.drop('Genre', axis=1)\n",
    "y = df['Genre']"
   ]
  },
  {
   "cell_type": "markdown",
   "id": "60c4f4c5",
   "metadata": {},
   "source": [
    "### Step 3: Split the Dataset\n",
    "\n",
    "Explanation:\n",
    "- We split the dataset into 70% training and 30% testing.\n",
    "- This ensures the model is tested on unseen data."
   ]
  },
  {
   "cell_type": "code",
   "execution_count": 6,
   "id": "8f86456d",
   "metadata": {},
   "outputs": [],
   "source": [
    "X_train, X_test, y_train, y_test = train_test_split(X, y, test_size=0.3, random_state=42)"
   ]
  },
  {
   "cell_type": "markdown",
   "id": "66277c39",
   "metadata": {},
   "source": [
    "### Step 4: Train the Model\n",
    "\n",
    "Explanation:\n",
    "- `RandomForestClassifier` is chosen because it is robust and handles classification problems well."
   ]
  },
  {
   "cell_type": "code",
   "execution_count": 7,
   "id": "ab127f3e",
   "metadata": {},
   "outputs": [
    {
     "ename": "ValueError",
     "evalue": "could not convert string to float: 'Quiet Heart 8'",
     "output_type": "error",
     "traceback": [
      "\u001b[1;31m---------------------------------------------------------------------------\u001b[0m",
      "\u001b[1;31mValueError\u001b[0m                                Traceback (most recent call last)",
      "\u001b[1;32m~\\AppData\\Local\\Temp\\ipykernel_44180\\516523741.py\u001b[0m in \u001b[0;36m?\u001b[1;34m()\u001b[0m\n\u001b[0;32m      1\u001b[0m \u001b[0mmodel\u001b[0m \u001b[1;33m=\u001b[0m \u001b[0mRandomForestClassifier\u001b[0m\u001b[1;33m(\u001b[0m\u001b[1;33m)\u001b[0m\u001b[1;33m\u001b[0m\u001b[1;33m\u001b[0m\u001b[0m\n\u001b[1;32m----> 2\u001b[1;33m \u001b[0mmodel\u001b[0m\u001b[1;33m.\u001b[0m\u001b[0mfit\u001b[0m\u001b[1;33m(\u001b[0m\u001b[0mX_train\u001b[0m\u001b[1;33m,\u001b[0m \u001b[0my_train\u001b[0m\u001b[1;33m)\u001b[0m\u001b[1;33m\u001b[0m\u001b[1;33m\u001b[0m\u001b[0m\n\u001b[0m",
      "\u001b[1;32mc:\\Users\\presh\\AppData\\Local\\Programs\\Python\\Python311\\Lib\\site-packages\\sklearn\\base.py\u001b[0m in \u001b[0;36m?\u001b[1;34m(estimator, *args, **kwargs)\u001b[0m\n\u001b[0;32m   1470\u001b[0m                 skip_parameter_validation=(\n\u001b[0;32m   1471\u001b[0m                     \u001b[0mprefer_skip_nested_validation\u001b[0m \u001b[1;32mor\u001b[0m \u001b[0mglobal_skip_validation\u001b[0m\u001b[1;33m\u001b[0m\u001b[1;33m\u001b[0m\u001b[0m\n\u001b[0;32m   1472\u001b[0m                 )\n\u001b[0;32m   1473\u001b[0m             ):\n\u001b[1;32m-> 1474\u001b[1;33m                 \u001b[1;32mreturn\u001b[0m \u001b[0mfit_method\u001b[0m\u001b[1;33m(\u001b[0m\u001b[0mestimator\u001b[0m\u001b[1;33m,\u001b[0m \u001b[1;33m*\u001b[0m\u001b[0margs\u001b[0m\u001b[1;33m,\u001b[0m \u001b[1;33m**\u001b[0m\u001b[0mkwargs\u001b[0m\u001b[1;33m)\u001b[0m\u001b[1;33m\u001b[0m\u001b[1;33m\u001b[0m\u001b[0m\n\u001b[0m",
      "\u001b[1;32mc:\\Users\\presh\\AppData\\Local\\Programs\\Python\\Python311\\Lib\\site-packages\\sklearn\\ensemble\\_forest.py\u001b[0m in \u001b[0;36m?\u001b[1;34m(self, X, y, sample_weight)\u001b[0m\n\u001b[0;32m    359\u001b[0m         \u001b[1;31m# Validate or convert input data\u001b[0m\u001b[1;33m\u001b[0m\u001b[1;33m\u001b[0m\u001b[0m\n\u001b[0;32m    360\u001b[0m         \u001b[1;32mif\u001b[0m \u001b[0missparse\u001b[0m\u001b[1;33m(\u001b[0m\u001b[0my\u001b[0m\u001b[1;33m)\u001b[0m\u001b[1;33m:\u001b[0m\u001b[1;33m\u001b[0m\u001b[1;33m\u001b[0m\u001b[0m\n\u001b[0;32m    361\u001b[0m             \u001b[1;32mraise\u001b[0m \u001b[0mValueError\u001b[0m\u001b[1;33m(\u001b[0m\u001b[1;34m\"sparse multilabel-indicator for y is not supported.\"\u001b[0m\u001b[1;33m)\u001b[0m\u001b[1;33m\u001b[0m\u001b[1;33m\u001b[0m\u001b[0m\n\u001b[0;32m    362\u001b[0m \u001b[1;33m\u001b[0m\u001b[0m\n\u001b[1;32m--> 363\u001b[1;33m         X, y = self._validate_data(\n\u001b[0m\u001b[0;32m    364\u001b[0m             \u001b[0mX\u001b[0m\u001b[1;33m,\u001b[0m\u001b[1;33m\u001b[0m\u001b[1;33m\u001b[0m\u001b[0m\n\u001b[0;32m    365\u001b[0m             \u001b[0my\u001b[0m\u001b[1;33m,\u001b[0m\u001b[1;33m\u001b[0m\u001b[1;33m\u001b[0m\u001b[0m\n\u001b[0;32m    366\u001b[0m             \u001b[0mmulti_output\u001b[0m\u001b[1;33m=\u001b[0m\u001b[1;32mTrue\u001b[0m\u001b[1;33m,\u001b[0m\u001b[1;33m\u001b[0m\u001b[1;33m\u001b[0m\u001b[0m\n",
      "\u001b[1;32mc:\\Users\\presh\\AppData\\Local\\Programs\\Python\\Python311\\Lib\\site-packages\\sklearn\\base.py\u001b[0m in \u001b[0;36m?\u001b[1;34m(self, X, y, reset, validate_separately, cast_to_ndarray, **check_params)\u001b[0m\n\u001b[0;32m    646\u001b[0m                 \u001b[1;32mif\u001b[0m \u001b[1;34m\"estimator\"\u001b[0m \u001b[1;32mnot\u001b[0m \u001b[1;32min\u001b[0m \u001b[0mcheck_y_params\u001b[0m\u001b[1;33m:\u001b[0m\u001b[1;33m\u001b[0m\u001b[1;33m\u001b[0m\u001b[0m\n\u001b[0;32m    647\u001b[0m                     \u001b[0mcheck_y_params\u001b[0m \u001b[1;33m=\u001b[0m \u001b[1;33m{\u001b[0m\u001b[1;33m**\u001b[0m\u001b[0mdefault_check_params\u001b[0m\u001b[1;33m,\u001b[0m \u001b[1;33m**\u001b[0m\u001b[0mcheck_y_params\u001b[0m\u001b[1;33m}\u001b[0m\u001b[1;33m\u001b[0m\u001b[1;33m\u001b[0m\u001b[0m\n\u001b[0;32m    648\u001b[0m                 \u001b[0my\u001b[0m \u001b[1;33m=\u001b[0m \u001b[0mcheck_array\u001b[0m\u001b[1;33m(\u001b[0m\u001b[0my\u001b[0m\u001b[1;33m,\u001b[0m \u001b[0minput_name\u001b[0m\u001b[1;33m=\u001b[0m\u001b[1;34m\"y\"\u001b[0m\u001b[1;33m,\u001b[0m \u001b[1;33m**\u001b[0m\u001b[0mcheck_y_params\u001b[0m\u001b[1;33m)\u001b[0m\u001b[1;33m\u001b[0m\u001b[1;33m\u001b[0m\u001b[0m\n\u001b[0;32m    649\u001b[0m             \u001b[1;32melse\u001b[0m\u001b[1;33m:\u001b[0m\u001b[1;33m\u001b[0m\u001b[1;33m\u001b[0m\u001b[0m\n\u001b[1;32m--> 650\u001b[1;33m                 \u001b[0mX\u001b[0m\u001b[1;33m,\u001b[0m \u001b[0my\u001b[0m \u001b[1;33m=\u001b[0m \u001b[0mcheck_X_y\u001b[0m\u001b[1;33m(\u001b[0m\u001b[0mX\u001b[0m\u001b[1;33m,\u001b[0m \u001b[0my\u001b[0m\u001b[1;33m,\u001b[0m \u001b[1;33m**\u001b[0m\u001b[0mcheck_params\u001b[0m\u001b[1;33m)\u001b[0m\u001b[1;33m\u001b[0m\u001b[1;33m\u001b[0m\u001b[0m\n\u001b[0m\u001b[0;32m    651\u001b[0m             \u001b[0mout\u001b[0m \u001b[1;33m=\u001b[0m \u001b[0mX\u001b[0m\u001b[1;33m,\u001b[0m \u001b[0my\u001b[0m\u001b[1;33m\u001b[0m\u001b[1;33m\u001b[0m\u001b[0m\n\u001b[0;32m    652\u001b[0m \u001b[1;33m\u001b[0m\u001b[0m\n\u001b[0;32m    653\u001b[0m         \u001b[1;32mif\u001b[0m \u001b[1;32mnot\u001b[0m \u001b[0mno_val_X\u001b[0m \u001b[1;32mand\u001b[0m \u001b[0mcheck_params\u001b[0m\u001b[1;33m.\u001b[0m\u001b[0mget\u001b[0m\u001b[1;33m(\u001b[0m\u001b[1;34m\"ensure_2d\"\u001b[0m\u001b[1;33m,\u001b[0m \u001b[1;32mTrue\u001b[0m\u001b[1;33m)\u001b[0m\u001b[1;33m:\u001b[0m\u001b[1;33m\u001b[0m\u001b[1;33m\u001b[0m\u001b[0m\n",
      "\u001b[1;32mc:\\Users\\presh\\AppData\\Local\\Programs\\Python\\Python311\\Lib\\site-packages\\sklearn\\utils\\validation.py\u001b[0m in \u001b[0;36m?\u001b[1;34m(X, y, accept_sparse, accept_large_sparse, dtype, order, copy, force_all_finite, ensure_2d, allow_nd, multi_output, ensure_min_samples, ensure_min_features, y_numeric, estimator)\u001b[0m\n\u001b[0;32m   1259\u001b[0m         raise ValueError(\n\u001b[0;32m   1260\u001b[0m             \u001b[1;34mf\"{estimator_name} requires y to be passed, but the target y is None\"\u001b[0m\u001b[1;33m\u001b[0m\u001b[1;33m\u001b[0m\u001b[0m\n\u001b[0;32m   1261\u001b[0m         )\n\u001b[0;32m   1262\u001b[0m \u001b[1;33m\u001b[0m\u001b[0m\n\u001b[1;32m-> 1263\u001b[1;33m     X = check_array(\n\u001b[0m\u001b[0;32m   1264\u001b[0m         \u001b[0mX\u001b[0m\u001b[1;33m,\u001b[0m\u001b[1;33m\u001b[0m\u001b[1;33m\u001b[0m\u001b[0m\n\u001b[0;32m   1265\u001b[0m         \u001b[0maccept_sparse\u001b[0m\u001b[1;33m=\u001b[0m\u001b[0maccept_sparse\u001b[0m\u001b[1;33m,\u001b[0m\u001b[1;33m\u001b[0m\u001b[1;33m\u001b[0m\u001b[0m\n\u001b[0;32m   1266\u001b[0m         \u001b[0maccept_large_sparse\u001b[0m\u001b[1;33m=\u001b[0m\u001b[0maccept_large_sparse\u001b[0m\u001b[1;33m,\u001b[0m\u001b[1;33m\u001b[0m\u001b[1;33m\u001b[0m\u001b[0m\n",
      "\u001b[1;32mc:\\Users\\presh\\AppData\\Local\\Programs\\Python\\Python311\\Lib\\site-packages\\sklearn\\utils\\validation.py\u001b[0m in \u001b[0;36m?\u001b[1;34m(array, accept_sparse, accept_large_sparse, dtype, order, copy, force_all_finite, ensure_2d, allow_nd, ensure_min_samples, ensure_min_features, estimator, input_name)\u001b[0m\n\u001b[0;32m    994\u001b[0m                         )\n\u001b[0;32m    995\u001b[0m                     \u001b[0marray\u001b[0m \u001b[1;33m=\u001b[0m \u001b[0mxp\u001b[0m\u001b[1;33m.\u001b[0m\u001b[0mastype\u001b[0m\u001b[1;33m(\u001b[0m\u001b[0marray\u001b[0m\u001b[1;33m,\u001b[0m \u001b[0mdtype\u001b[0m\u001b[1;33m,\u001b[0m \u001b[0mcopy\u001b[0m\u001b[1;33m=\u001b[0m\u001b[1;32mFalse\u001b[0m\u001b[1;33m)\u001b[0m\u001b[1;33m\u001b[0m\u001b[1;33m\u001b[0m\u001b[0m\n\u001b[0;32m    996\u001b[0m                 \u001b[1;32melse\u001b[0m\u001b[1;33m:\u001b[0m\u001b[1;33m\u001b[0m\u001b[1;33m\u001b[0m\u001b[0m\n\u001b[0;32m    997\u001b[0m                     \u001b[0marray\u001b[0m \u001b[1;33m=\u001b[0m \u001b[0m_asarray_with_order\u001b[0m\u001b[1;33m(\u001b[0m\u001b[0marray\u001b[0m\u001b[1;33m,\u001b[0m \u001b[0morder\u001b[0m\u001b[1;33m=\u001b[0m\u001b[0morder\u001b[0m\u001b[1;33m,\u001b[0m \u001b[0mdtype\u001b[0m\u001b[1;33m=\u001b[0m\u001b[0mdtype\u001b[0m\u001b[1;33m,\u001b[0m \u001b[0mxp\u001b[0m\u001b[1;33m=\u001b[0m\u001b[0mxp\u001b[0m\u001b[1;33m)\u001b[0m\u001b[1;33m\u001b[0m\u001b[1;33m\u001b[0m\u001b[0m\n\u001b[1;32m--> 998\u001b[1;33m             \u001b[1;32mexcept\u001b[0m \u001b[0mComplexWarning\u001b[0m \u001b[1;32mas\u001b[0m \u001b[0mcomplex_warning\u001b[0m\u001b[1;33m:\u001b[0m\u001b[1;33m\u001b[0m\u001b[1;33m\u001b[0m\u001b[0m\n\u001b[0m\u001b[0;32m    999\u001b[0m                 raise ValueError(\n\u001b[0;32m   1000\u001b[0m                     \u001b[1;34m\"Complex data not supported\\n{}\\n\"\u001b[0m\u001b[1;33m.\u001b[0m\u001b[0mformat\u001b[0m\u001b[1;33m(\u001b[0m\u001b[0marray\u001b[0m\u001b[1;33m)\u001b[0m\u001b[1;33m\u001b[0m\u001b[1;33m\u001b[0m\u001b[0m\n\u001b[0;32m   1001\u001b[0m                 ) from complex_warning\n",
      "\u001b[1;32mc:\\Users\\presh\\AppData\\Local\\Programs\\Python\\Python311\\Lib\\site-packages\\sklearn\\utils\\_array_api.py\u001b[0m in \u001b[0;36m?\u001b[1;34m(array, dtype, order, copy, xp)\u001b[0m\n\u001b[0;32m    517\u001b[0m         \u001b[1;31m# Use NumPy API to support order\u001b[0m\u001b[1;33m\u001b[0m\u001b[1;33m\u001b[0m\u001b[0m\n\u001b[0;32m    518\u001b[0m         \u001b[1;32mif\u001b[0m \u001b[0mcopy\u001b[0m \u001b[1;32mis\u001b[0m \u001b[1;32mTrue\u001b[0m\u001b[1;33m:\u001b[0m\u001b[1;33m\u001b[0m\u001b[1;33m\u001b[0m\u001b[0m\n\u001b[0;32m    519\u001b[0m             \u001b[0marray\u001b[0m \u001b[1;33m=\u001b[0m \u001b[0mnumpy\u001b[0m\u001b[1;33m.\u001b[0m\u001b[0marray\u001b[0m\u001b[1;33m(\u001b[0m\u001b[0marray\u001b[0m\u001b[1;33m,\u001b[0m \u001b[0morder\u001b[0m\u001b[1;33m=\u001b[0m\u001b[0morder\u001b[0m\u001b[1;33m,\u001b[0m \u001b[0mdtype\u001b[0m\u001b[1;33m=\u001b[0m\u001b[0mdtype\u001b[0m\u001b[1;33m)\u001b[0m\u001b[1;33m\u001b[0m\u001b[1;33m\u001b[0m\u001b[0m\n\u001b[0;32m    520\u001b[0m         \u001b[1;32melse\u001b[0m\u001b[1;33m:\u001b[0m\u001b[1;33m\u001b[0m\u001b[1;33m\u001b[0m\u001b[0m\n\u001b[1;32m--> 521\u001b[1;33m             \u001b[0marray\u001b[0m \u001b[1;33m=\u001b[0m \u001b[0mnumpy\u001b[0m\u001b[1;33m.\u001b[0m\u001b[0masarray\u001b[0m\u001b[1;33m(\u001b[0m\u001b[0marray\u001b[0m\u001b[1;33m,\u001b[0m \u001b[0morder\u001b[0m\u001b[1;33m=\u001b[0m\u001b[0morder\u001b[0m\u001b[1;33m,\u001b[0m \u001b[0mdtype\u001b[0m\u001b[1;33m=\u001b[0m\u001b[0mdtype\u001b[0m\u001b[1;33m)\u001b[0m\u001b[1;33m\u001b[0m\u001b[1;33m\u001b[0m\u001b[0m\n\u001b[0m\u001b[0;32m    522\u001b[0m \u001b[1;33m\u001b[0m\u001b[0m\n\u001b[0;32m    523\u001b[0m         \u001b[1;31m# At this point array is a NumPy ndarray. We convert it to an array\u001b[0m\u001b[1;33m\u001b[0m\u001b[1;33m\u001b[0m\u001b[0m\n\u001b[0;32m    524\u001b[0m         \u001b[1;31m# container that is consistent with the input's namespace.\u001b[0m\u001b[1;33m\u001b[0m\u001b[1;33m\u001b[0m\u001b[0m\n",
      "\u001b[1;32mc:\\Users\\presh\\AppData\\Local\\Programs\\Python\\Python311\\Lib\\site-packages\\pandas\\core\\generic.py\u001b[0m in \u001b[0;36m?\u001b[1;34m(self, dtype)\u001b[0m\n\u001b[0;32m   2148\u001b[0m     \u001b[1;32mdef\u001b[0m \u001b[0m__array__\u001b[0m\u001b[1;33m(\u001b[0m\u001b[0mself\u001b[0m\u001b[1;33m,\u001b[0m \u001b[0mdtype\u001b[0m\u001b[1;33m:\u001b[0m \u001b[0mnpt\u001b[0m\u001b[1;33m.\u001b[0m\u001b[0mDTypeLike\u001b[0m \u001b[1;33m|\u001b[0m \u001b[1;32mNone\u001b[0m \u001b[1;33m=\u001b[0m \u001b[1;32mNone\u001b[0m\u001b[1;33m)\u001b[0m \u001b[1;33m->\u001b[0m \u001b[0mnp\u001b[0m\u001b[1;33m.\u001b[0m\u001b[0mndarray\u001b[0m\u001b[1;33m:\u001b[0m\u001b[1;33m\u001b[0m\u001b[1;33m\u001b[0m\u001b[0m\n\u001b[0;32m   2149\u001b[0m         \u001b[0mvalues\u001b[0m \u001b[1;33m=\u001b[0m \u001b[0mself\u001b[0m\u001b[1;33m.\u001b[0m\u001b[0m_values\u001b[0m\u001b[1;33m\u001b[0m\u001b[1;33m\u001b[0m\u001b[0m\n\u001b[1;32m-> 2150\u001b[1;33m         \u001b[0marr\u001b[0m \u001b[1;33m=\u001b[0m \u001b[0mnp\u001b[0m\u001b[1;33m.\u001b[0m\u001b[0masarray\u001b[0m\u001b[1;33m(\u001b[0m\u001b[0mvalues\u001b[0m\u001b[1;33m,\u001b[0m \u001b[0mdtype\u001b[0m\u001b[1;33m=\u001b[0m\u001b[0mdtype\u001b[0m\u001b[1;33m)\u001b[0m\u001b[1;33m\u001b[0m\u001b[1;33m\u001b[0m\u001b[0m\n\u001b[0m\u001b[0;32m   2151\u001b[0m         if (\n\u001b[0;32m   2152\u001b[0m             \u001b[0mastype_is_view\u001b[0m\u001b[1;33m(\u001b[0m\u001b[0mvalues\u001b[0m\u001b[1;33m.\u001b[0m\u001b[0mdtype\u001b[0m\u001b[1;33m,\u001b[0m \u001b[0marr\u001b[0m\u001b[1;33m.\u001b[0m\u001b[0mdtype\u001b[0m\u001b[1;33m)\u001b[0m\u001b[1;33m\u001b[0m\u001b[1;33m\u001b[0m\u001b[0m\n\u001b[0;32m   2153\u001b[0m             \u001b[1;32mand\u001b[0m \u001b[0musing_copy_on_write\u001b[0m\u001b[1;33m(\u001b[0m\u001b[1;33m)\u001b[0m\u001b[1;33m\u001b[0m\u001b[1;33m\u001b[0m\u001b[0m\n",
      "\u001b[1;31mValueError\u001b[0m: could not convert string to float: 'Quiet Heart 8'"
     ]
    }
   ],
   "source": [
    "model = RandomForestClassifier()\n",
    "model.fit(X_train, y_train)"
   ]
  },
  {
   "cell_type": "markdown",
   "id": "4c4a3500",
   "metadata": {},
   "source": [
    "### Step 5: Evaluate the Model\n",
    "\n",
    "Explanation:\n",
    "- We predict on the test set.\n",
    "- Accuracy shows how many predictions are correct."
   ]
  },
  {
   "cell_type": "code",
   "execution_count": null,
   "id": "0ce5e7db",
   "metadata": {},
   "outputs": [],
   "source": [
    "y_pred = model.predict(X_test)\n",
    "accuracy = accuracy_score(y_test, y_pred)\n",
    "print(\"Accuracy:\", accuracy)\n",
    "\n",
    "# Display Confusion Matrix\n",
    "cm = confusion_matrix(y_test, y_pred)\n",
    "print(\"Confusion Matrix:\\n\", cm)\n",
    "\n",
    "# Detailed Classification Report\n",
    "print(\"Classification Report:\\n\", classification_report(y_test, y_pred, target_names=iris.target_names))"
   ]
  },
  {
   "cell_type": "markdown",
   "id": "e1d278ec",
   "metadata": {},
   "source": [
    "## 3. Combining Multiple Algorithms for Better Performance (Ensemble Learning)\n",
    "\n",
    "**Ensemble Learning:**\n",
    "- Combines multiple models to improve performance.\n",
    "- Types: Voting, Bagging, Boosting, Stacking.\n",
    "\n",
    "**Voting Classifier:**\n",
    "- Combines predictions from multiple models.\n",
    "- Hard Voting: Majority class is selected.\n",
    "\n",
    "**Benefits:**\n",
    "- Reduces overfitting.\n",
    "- Improves accuracy."
   ]
  },
  {
   "cell_type": "code",
   "execution_count": null,
   "id": "2705ecc4",
   "metadata": {},
   "outputs": [],
   "source": [
    "from sklearn.ensemble import VotingClassifier\n",
    "from sklearn.linear_model import LogisticRegression\n",
    "from sklearn.tree import DecisionTreeClassifier\n",
    "\n",
    "# Create individual models\n",
    "model1 = LogisticRegression(max_iter=200)\n",
    "model2 = DecisionTreeClassifier()\n",
    "model3 = RandomForestClassifier()\n",
    "\n",
    "# Create Voting Classifier\n",
    "voting_model = VotingClassifier(estimators=[('lr', model1), ('dt', model2), ('rf', model3)], voting='hard')\n",
    "\n",
    "# Train the ensemble model\n",
    "voting_model.fit(X_train, y_train)\n",
    "\n",
    "# Evaluate the ensemble model\n",
    "y_pred_voting = voting_model.predict(X_test)\n",
    "voting_accuracy = accuracy_score(y_test, y_pred_voting)\n",
    "print(\"Voting Classifier Accuracy:\", voting_accuracy)"
   ]
  },
  {
   "cell_type": "markdown",
   "id": "334b2fd7",
   "metadata": {},
   "source": [
    "## 4. Project Activity: Develop and Train the Model (Practice)\n",
    "\n",
    "### Practice Instructions:\n",
    "1. Load a dataset (Iris or any classification dataset).\n",
    "2. Perform data exploration (check for missing values, class balance).\n",
    "3. Preprocess the dataset if needed.\n",
    "4. Split the dataset into training and testing sets.\n",
    "5. Train a classifier (Random Forest, Decision Tree, Logistic Regression).\n",
    "6. Evaluate using accuracy, precision, recall.\n",
    "7. Try combining models using Voting Classifier.\n",
    "8. Compare individual and combined model performances."
   ]
  },
  {
   "cell_type": "markdown",
   "id": "c51b5583",
   "metadata": {},
   "source": [
    "## 5. Project Feedback and Discussion\n",
    "\n",
    "### Discussion Points:\n",
    "- What challenges did you face while preprocessing the data?\n",
    "- Which model performed best individually?\n",
    "- Did ensemble improve the model performance?\n",
    "- What did you learn about the importance of choosing the right algorithm and preprocessing steps?\n",
    "\n",
    "### Key Takeaways:\n",
    "- Data preprocessing is critical for good model performance.\n",
    "- Trying multiple algorithms and tuning them is essential.\n",
    "- Combining models can often lead to improved results."
   ]
  }
 ],
 "metadata": {
  "kernelspec": {
   "display_name": "Python 3",
   "language": "python",
   "name": "python3"
  },
  "language_info": {
   "codemirror_mode": {
    "name": "ipython",
    "version": 3
   },
   "file_extension": ".py",
   "mimetype": "text/x-python",
   "name": "python",
   "nbconvert_exporter": "python",
   "pygments_lexer": "ipython3",
   "version": "3.11.5"
  }
 },
 "nbformat": 4,
 "nbformat_minor": 5
}
