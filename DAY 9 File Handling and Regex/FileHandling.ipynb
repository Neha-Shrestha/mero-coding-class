{
 "cells": [
  {
   "cell_type": "markdown",
   "metadata": {},
   "source": [
    "# 🧑‍🏫 Class 9 – File Handling & Regular Expressions\n",
    "\n",
    "**Objective:** Understand how to handle files in Python (both text and binary), and how to use regular expressions for pattern matching and text extraction.\n",
    "\n",
    "Let's break this lesson into five parts: Introduction, File Handling Basics, Regular Expressions, File Processing using RegEx, and Recap."
   ]
  },
  {
   "cell_type": "markdown",
   "metadata": {},
   "source": [
    "## 🔥 Warm-Up: What Are Files and Regex?\n",
    "\n",
    "### What are Files?\n",
    "Think of a file like a notebook. A text file is like writing with a pen, you can open it and read what's inside.\n",
    "\n",
    "### Why Handle Files in Programming?\n",
    "Imagine your program is like a robot. File handling allows this robot to read instructions or save information to share with others or remember things later.\n",
    "\n",
    "### Types of Files:\n",
    "- **Text Files:** Like `.txt`, readable by humans\n",
    "- **Binary Files:** Like images or videos, not human-readable\n",
    "\n",
    "### What Are Regular Expressions?\n",
    "Regular expressions (regex) are like patterns used to search through text. If you want to find all phone numbers or emails in a big document, regex helps like a magnifying glass for patterns."
   ]
  },
  {
   "cell_type": "code",
   "execution_count": 1,
   "metadata": {},
   "outputs": [
    {
     "name": "stdout",
     "output_type": "stream",
     "text": [
      "Operating System Name: nt\n"
     ]
    }
   ],
   "source": [
    "# Quick Demo: Check if os module works\n",
    "import os\n",
    "print(\"Operating System Name:\", os.name)  # 'posix' for Linux/Mac, 'nt' for Windows"
   ]
  },
  {
   "cell_type": "markdown",
   "metadata": {},
   "source": [
    "## 📂 File Handling Basics\n",
    "\n",
    "Python can open files to read or write just like opening a notebook to read or write something. The `open()` function is your key tool here.\n",
    "\n",
    "**Common Modes:**\n",
    "- `'r'` – Read\n",
    "- `'w'` – Write (overwrite)\n",
    "- `'a'` – Append\n",
    "- `'rb'` – Read Binary\n",
    "- `'wb'` – Write Binary"
   ]
  },
  {
   "cell_type": "code",
   "execution_count": 1,
   "metadata": {},
   "outputs": [
    {
     "name": "stdout",
     "output_type": "stream",
     "text": [
      "Hello! My name is Neha Shrestha. \n"
     ]
    }
   ],
   "source": [
    "# Reading a text file\n",
    "# Example: Reading your diary to see what you wrote yesterday\n",
    "with open(\"sample.txt\", \"r\") as file:\n",
    "    content = file.read()\n",
    "    print(content)"
   ]
  },
  {
   "cell_type": "code",
   "execution_count": 2,
   "metadata": {},
   "outputs": [],
   "source": [
    "# Writing to a text file\n",
    "# Example: Writing a new note in your notebook\n",
    "with open(\"output.txt\", \"w\") as file:\n",
    "    file.write(\"Hello, this is a test.\")"
   ]
  },
  {
   "cell_type": "code",
   "execution_count": 3,
   "metadata": {},
   "outputs": [
    {
     "name": "stdout",
     "output_type": "stream",
     "text": [
      "b'\\xff\\xd8\\xff\\xe0\\x00\\x10JFIF\\x00\\x01\\x01\\x00\\x00\\x01\\x00\\x01\\x00\\x00'\n"
     ]
    }
   ],
   "source": [
    "# Reading a binary file (like reading raw image data)\n",
    "# This shows only the first 20 bytes, like peeking into a photo's digital data\n",
    "with open(\"image.jpg\", \"rb\") as file:\n",
    "    data = file.read()\n",
    "    print(data[:20])"
   ]
  },
  {
   "cell_type": "code",
   "execution_count": 4,
   "metadata": {},
   "outputs": [],
   "source": [
    "# Writing to a binary file\n",
    "# Copying the data to a new image file\n",
    "with open(\"output_image.jpg\", \"wb\") as file:\n",
    "    file.write(data)"
   ]
  },
  {
   "cell_type": "markdown",
   "metadata": {},
   "source": [
    "## 🧵 Introduction to Regular Expressions\n",
    "\n",
    "The `re` module in Python helps you find patterns in text.\n",
    "\n",
    "Think of it like CTRL + F in Word, but smarter — it can look for patterns, not just fixed words.\n",
    "\n",
    "For example, if you want to find all the words in a sentence or find email addresses, regex can do that easily!"
   ]
  },
  {
   "cell_type": "code",
   "execution_count": 5,
   "metadata": {},
   "outputs": [
    {
     "name": "stdout",
     "output_type": "stream",
     "text": [
      "Words Found: ['The', 'quick', 'brown', 'fox']\n"
     ]
    }
   ],
   "source": [
    "# Match all words in a string\n",
    "# \\b\\w+\\b means word boundaries with one or more word characters\n",
    "import re\n",
    "text = \"The quick brown fox\"\n",
    "pattern = r\"\\b\\w+\\b\"\n",
    "matches = re.findall(pattern, text)\n",
    "print(\"Words Found:\", matches)"
   ]
  },
  {
   "cell_type": "code",
   "execution_count": 10,
   "id": "4ccbb4c4",
   "metadata": {},
   "outputs": [],
   "source": [
    "# pattern = r\"\\b\\w+\\b\"\n",
    "\n",
    "# r = raw string \n",
    "\n",
    "# This tells don't treat backslash as special escape character.\n",
    "# For example: \"\\n\" means a new line but r\"\\n\" just means a backslash and an \"n\"\n",
    "\n",
    "# We use a lot of backslashes so r\"\" helps to avoid confusion\n",
    "\n",
    "# \\b = Word Boundary\n",
    "\n",
    "# This is like fence \"this is where a word starts or ends\"\n",
    "# It doesn't match a letter — it matches the space between a word and something else (like space, punctuation, or the start/end of a line)\n",
    "\n",
    "# \\w = Word Character\n",
    "\n",
    "# This means any letter, number, or underscore (_).\n",
    "\n",
    "# + = One or more\n",
    "\n",
    "# This says: “Match one or more of the thing before me.”\n",
    "\n",
    "# So \\w+ means: match one or more letters/numbers/underscores in a row — basically, a word.\n",
    "\n",
    "# \\b\\w+\\b = Altogether\n",
    "\n",
    "# This pattern finds entire words in a sentence.\n",
    "# Beginning of word(\\b), collects all the letters/numbers(\\w+) and stops at the end of the word(\\b)\n",
    "\n"
   ]
  },
  {
   "cell_type": "code",
   "execution_count": null,
   "metadata": {},
   "outputs": [
    {
     "name": "stdout",
     "output_type": "stream",
     "text": [
      "['123-45-6789']\n",
      "Found: 123-45-6789\n"
     ]
    }
   ],
   "source": [
    "# Search for a social security number format (###-##-####)\n",
    "# Useful for finding ID patterns\n",
    "pattern = r\"\\d{3}-\\d{2}-\\d{4}\"\n",
    "text = \"My SSN is 123-45-6789\"\n",
    "matches = re.findall(pattern, text)\n",
    "print(matches)\n",
    "\n",
    "\n",
    "match = re.search(pattern, text)\n",
    "if match:\n",
    "    print(\"Found:\", match.group())"
   ]
  },
  {
   "cell_type": "code",
   "execution_count": 11,
   "id": "0dbb4b94",
   "metadata": {},
   "outputs": [],
   "source": [
    "# pattern = r\"\\d{3}-\\d{2}-\\d{4}\"\n",
    "\n",
    "# r\"\" = Raw String\n",
    "\n",
    "# \\d = \\d \n",
    "\n",
    "\n",
    "# \\d = Single Digit(0 to 9)\n",
    "\n",
    "# \\d means find one digit\n",
    "\n",
    "\n",
    "# {3}, {2}, {4} = Repetition\n",
    "\n",
    "# Curly braces mean how many times to repeat\n",
    "\n",
    "# \\d{3} means match exactly 3 digits\n",
    "\n",
    "# \\d{2} means match exactly 2 digits\n",
    "\n",
    "# \\d{4} means match exactly 4 digits\n",
    "\n",
    "\n",
    "# - Hyphen is just a regular dash matching \"-\" in the text"
   ]
  },
  {
   "cell_type": "markdown",
   "id": "9a6d71ed",
   "metadata": {},
   "source": []
  },
  {
   "cell_type": "code",
   "execution_count": null,
   "metadata": {},
   "outputs": [],
   "source": [
    "# Extract emails from a string\n",
    "# This finds any valid email address\n",
    "pattern = r\"\\b[A-Za-z0-9._%+-]+@[A-Za-z0-9.-]+\\.[A-Z|a-z]{2,}\\b\"\n",
    "text = \"Send an email to example@example.com for more info.\"\n",
    "emails = re.findall(pattern, text)\n",
    "print(\"Emails:\", emails)"
   ]
  },
  {
   "cell_type": "code",
   "execution_count": null,
   "id": "a7da2db3",
   "metadata": {},
   "outputs": [],
   "source": [
    "# \\b = Word Boundary (marks the start and end of email address)\n",
    "\n",
    "# [A-Za-z0-9._%+-]+ = This is the username part(before @ symbol)\n",
    "# [ ] means: \"match any one character from this list.\"\n",
    "# A-Z = uppercase letters\n",
    "# a-z = lowercase letters\n",
    "# 0-9 = numbers\n",
    "# ._%+- = special characters often used in emails\n",
    "# The + means: \"match one or more of these characters.\"\n",
    "\n",
    "#  So this matches things like:\n",
    "# hello\n",
    "# john.doe\n",
    "# user_name123+tag\n",
    "\n",
    "# @\n",
    "# This just matches the @ symbol in the email address.\n",
    "\n",
    "# [A-Za-z0-9.-]+\n",
    "# This is the domain name (after the @ symbol), like:\n",
    "# gmail\n",
    "# my-school\n",
    "# example123\n",
    "# It includes:\n",
    "# Letters (A-Z, a-z)\n",
    "# Numbers (0-9)\n",
    "# Dots . and dashes -\n",
    "\n",
    "# \\.\n",
    "# This matches the dot before the domain ending like .com, .org, .net.\n",
    "\n",
    "# [A-Z|a-z]{2,}\n",
    "# This is the domain ending, like:\n",
    "# com, org, net, edu, etc.\n",
    "\n",
    "# But here's a small catch:\n",
    "#The part [A-Z|a-z] includes | by mistake (a common error in regex).\n",
    "\n",
    "# {2,} = at least 2 letters (like com, io, edu, etc.)\n",
    "\n",
    "# Final \\b\n",
    "# Marks the end of the word (email address)."
   ]
  },
  {
   "cell_type": "markdown",
   "metadata": {},
   "source": [
    "## 🛠 File Processing with Regular Expressions\n",
    "\n",
    "Now let’s combine both: read a file, and then use regular expressions to extract specific patterns like phone numbers.\n",
    "\n",
    "### Real-Life Example:\n",
    "Imagine you have a contact list and want to extract all phone numbers from it — regex makes this job super simple."
   ]
  },
  {
   "cell_type": "code",
   "execution_count": 8,
   "metadata": {},
   "outputs": [
    {
     "name": "stdout",
     "output_type": "stream",
     "text": [
      "Phone Numbers Found: ['9813337680']\n"
     ]
    }
   ],
   "source": [
    "# Extracting phone numbers from a text file\n",
    "with open(\"contacts.txt\", \"r\") as file:\n",
    "    content = file.read()\n",
    "\n",
    "pattern = r\"\\b9\\d{9}\\b\"\n",
    "phone_numbers = re.findall(pattern, content)\n",
    "print(\"Phone Numbers Found:\", phone_numbers)"
   ]
  },
  {
   "cell_type": "code",
   "execution_count": null,
   "id": "96085f47",
   "metadata": {},
   "outputs": [],
   "source": [
    "phone_pattern = r\"\\(?\\d{3}\\)?[-.\\s]?\\d{3}[-.\\s]?\\d{4}\""
   ]
  },
  {
   "cell_type": "markdown",
   "metadata": {},
   "source": [
    "### Count Word Occurrences in a File\n",
    "Let’s count how many times the word \"Python\" appears in a file.\n",
    "\n",
    "Useful when analyzing text for keywords!"
   ]
  },
  {
   "cell_type": "code",
   "execution_count": 9,
   "metadata": {},
   "outputs": [
    {
     "name": "stdout",
     "output_type": "stream",
     "text": [
      "'Python' found 2 times.\n"
     ]
    }
   ],
   "source": [
    "# Count the number of times a word appears\n",
    "word_to_count = \"Python\"\n",
    "with open(\"sample.txt\", \"r\") as file:\n",
    "    content = file.read()\n",
    "\n",
    "matches = re.findall(rf\"\\b{word_to_count}\\b\", content, re.IGNORECASE)\n",
    "print(f\"'{word_to_count}' found {len(matches)} times.\")"
   ]
  },
  {
   "cell_type": "markdown",
   "metadata": {},
   "source": [
    "## 🧠 Wrap-Up\n",
    "\n",
    "- Files store data permanently, and we can use Python to read/write them.\n",
    "- Regular expressions help find patterns in text like phone numbers and emails.\n",
    "- These skills are essential in data processing and automation.\n",
    "\n",
    "### Homework ✍️\n",
    "1. Create a Python script to count how many times a particular word appears in a file.\n",
    "2. Extract all email addresses from a file using regex.\n",
    "\n",
    "Happy Coding! 🐍"
   ]
  }
 ],
 "metadata": {
  "kernelspec": {
   "display_name": "Python 3",
   "language": "python",
   "name": "python3"
  },
  "language_info": {
   "codemirror_mode": {
    "name": "ipython",
    "version": 3
   },
   "file_extension": ".py",
   "mimetype": "text/x-python",
   "name": "python",
   "nbconvert_exporter": "python",
   "pygments_lexer": "ipython3",
   "version": "3.11.5"
  }
 },
 "nbformat": 4,
 "nbformat_minor": 5
}
