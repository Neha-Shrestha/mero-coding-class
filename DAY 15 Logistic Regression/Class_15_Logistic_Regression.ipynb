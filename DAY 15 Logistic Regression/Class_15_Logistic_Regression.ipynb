{
  "cells": [
    {
      "cell_type": "markdown",
      "id": "d1b48225",
      "metadata": {
        "id": "d1b48225"
      },
      "source": [
        "# Class 15 – Logistic Regression\n",
        "\n",
        "## Duration: 2 Hours\n",
        "\n",
        "### Objective:\n",
        "By the end of this lesson, you will understand:\n",
        "- What Logistic Regression is\n",
        "- How it's used in binary classification tasks\n",
        "- How to evaluate a logistic regression model using classification metrics\n"
      ]
    },
    {
      "cell_type": "markdown",
      "id": "3822386f",
      "metadata": {
        "id": "3822386f"
      },
      "source": [
        "## 1. Introduction to Logistic Regression\n",
        "\n",
        "Logistic Regression is a **statistical method** used for binary classification tasks. That means it helps us **predict an outcome that has only two values** — like Yes/No, True/False, or 1/0.\n",
        "\n",
        "### Real Life Example:\n",
        "Imagine you're working for a telecom company and you want to **predict whether a customer will leave the company (churn)** or not. The outcome is binary: either **churn = yes (1)** or **churn = no (0)**.\n",
        "\n",
        "### Key Concept: Sigmoid Function\n",
        "\n",
        "Logistic regression uses the **sigmoid function** to convert any real number into a value between 0 and 1 — which we then interpret as a probability.\n",
        "\n",
        "Logistic regression uses the Sigmoid function to predict the probability of a sample belonging to a certain class. The output is a value between 0 and 1, which is then mapped to the nearest class label (0 or 1).\n",
        "\n",
        "\n",
        "The formula of the sigmoid function is:\n",
        "\n",
        "\\[\n",
        "S(z) = \\frac{1}{1 + e^{-z}}\n",
        "\\]\n",
        "\n",
        "Where **z** is the weighted sum of inputs.\n",
        "\n",
        "The prediction formula becomes:\n",
        "\n",
        "\\[\n",
        "P(y=1|X) = \\frac{1}{1 + e^{-(w_0 + w_1x_1 + w_2x_2 + ... + w_nx_n)}}\n",
        "\\]\n",
        "\n",
        "- \\(x_1, x_2,...,x_n\\): input features\n",
        "- \\(w_1, w_2,...,w_n\\): weights learned by the model\n"
      ]
    },
    {
      "cell_type": "markdown",
      "id": "3c590e3d",
      "metadata": {
        "id": "3c590e3d"
      },
      "source": [
        "## 2. Implementing Logistic Regression\n",
        "\n",
        "Let's implement Logistic Regression using Python and Scikit-learn.\n",
        "We'll go step-by-step, explaining each part.\n",
        "\n",
        "Objective: Implement a logistic regression model using scikit-learn to solve a binary classification problem.\n",
        "Steps for Logistic Regression:\n",
        "Load the Dataset: Load and explore a dataset (e.g., customer churn dataset).\n",
        "\n",
        "\n",
        "Preprocess the Data: Handle missing values, encode categorical variables, split the dataset into training and testing sets.\n",
        "\n",
        "\n",
        "Train the Model: Use LogisticRegression from scikit-learn to train the model.\n",
        "\n",
        "\n",
        "Predict and Evaluate: Use evaluation metrics like Confusion Matrix, Accuracy, Precision, Recall, and F1-Score.\n",
        "\n",
        "\n",
        "\n",
        "### Step 1: Import Required Libraries\n",
        "These libraries help us load data, preprocess it, and build our model.\n"
      ]
    },
    {
      "cell_type": "code",
      "execution_count": 13,
      "id": "d73bb6d2",
      "metadata": {
        "id": "d73bb6d2"
      },
      "outputs": [],
      "source": [
        "import pandas as pd\n",
        "from sklearn.model_selection import train_test_split\n",
        "from sklearn.linear_model import LogisticRegression\n",
        "from sklearn.metrics import confusion_matrix, accuracy_score, precision_score, recall_score, f1_score\n",
        "import matplotlib.pyplot as plt\n",
        "import seaborn as sns"
      ]
    },
    {
      "cell_type": "markdown",
      "id": "f4bad06a",
      "metadata": {
        "id": "f4bad06a"
      },
      "source": [
        "### Step 2: Load Dataset\n",
        "\n",
        "We’ll use a sample **customer churn dataset**. You can use your own or find one online.\n"
      ]
    },
    {
      "cell_type": "code",
      "execution_count": 14,
      "id": "5cc4b16b",
      "metadata": {
        "colab": {
          "base_uri": "https://localhost:8080/",
          "height": 206
        },
        "id": "5cc4b16b",
        "outputId": "309551e6-d0f5-40c6-a4be-7569b6547ce3"
      },
      "outputs": [
        {
          "data": {
            "text/html": [
              "<div>\n",
              "<style scoped>\n",
              "    .dataframe tbody tr th:only-of-type {\n",
              "        vertical-align: middle;\n",
              "    }\n",
              "\n",
              "    .dataframe tbody tr th {\n",
              "        vertical-align: top;\n",
              "    }\n",
              "\n",
              "    .dataframe thead th {\n",
              "        text-align: right;\n",
              "    }\n",
              "</style>\n",
              "<table border=\"1\" class=\"dataframe\">\n",
              "  <thead>\n",
              "    <tr style=\"text-align: right;\">\n",
              "      <th></th>\n",
              "      <th>CustomerID</th>\n",
              "      <th>Tenure</th>\n",
              "      <th>MonthlyCharge</th>\n",
              "      <th>TotalCharges</th>\n",
              "      <th>Contract</th>\n",
              "      <th>PaymentMethod</th>\n",
              "      <th>PaperlessBilling</th>\n",
              "      <th>AverageUsage</th>\n",
              "      <th>TotalUsage</th>\n",
              "      <th>Churn</th>\n",
              "    </tr>\n",
              "  </thead>\n",
              "  <tbody>\n",
              "    <tr>\n",
              "      <th>0</th>\n",
              "      <td>CUST_1</td>\n",
              "      <td>38</td>\n",
              "      <td>128.570307</td>\n",
              "      <td>4885.671652</td>\n",
              "      <td>Month-to-month</td>\n",
              "      <td>Credit card</td>\n",
              "      <td>0</td>\n",
              "      <td>34.577658</td>\n",
              "      <td>1313.950991</td>\n",
              "      <td>0</td>\n",
              "    </tr>\n",
              "    <tr>\n",
              "      <th>1</th>\n",
              "      <td>CUST_2</td>\n",
              "      <td>44</td>\n",
              "      <td>122.904332</td>\n",
              "      <td>5407.790597</td>\n",
              "      <td>One year</td>\n",
              "      <td>Bank transfer</td>\n",
              "      <td>0</td>\n",
              "      <td>43.387375</td>\n",
              "      <td>1909.044500</td>\n",
              "      <td>0</td>\n",
              "    </tr>\n",
              "    <tr>\n",
              "      <th>2</th>\n",
              "      <td>CUST_3</td>\n",
              "      <td>13</td>\n",
              "      <td>79.127233</td>\n",
              "      <td>1028.654035</td>\n",
              "      <td>Month-to-month</td>\n",
              "      <td>Credit card</td>\n",
              "      <td>0</td>\n",
              "      <td>14.974818</td>\n",
              "      <td>194.672633</td>\n",
              "      <td>0</td>\n",
              "    </tr>\n",
              "    <tr>\n",
              "      <th>3</th>\n",
              "      <td>CUST_4</td>\n",
              "      <td>9</td>\n",
              "      <td>88.537223</td>\n",
              "      <td>796.835005</td>\n",
              "      <td>Month-to-month</td>\n",
              "      <td>Electronic check</td>\n",
              "      <td>0</td>\n",
              "      <td>14.611459</td>\n",
              "      <td>131.503133</td>\n",
              "      <td>1</td>\n",
              "    </tr>\n",
              "    <tr>\n",
              "      <th>4</th>\n",
              "      <td>CUST_5</td>\n",
              "      <td>10</td>\n",
              "      <td>148.100000</td>\n",
              "      <td>1481.000003</td>\n",
              "      <td>One year</td>\n",
              "      <td>Electronic check</td>\n",
              "      <td>1</td>\n",
              "      <td>15.346697</td>\n",
              "      <td>153.466972</td>\n",
              "      <td>0</td>\n",
              "    </tr>\n",
              "  </tbody>\n",
              "</table>\n",
              "</div>"
            ],
            "text/plain": [
              "  CustomerID  Tenure  MonthlyCharge  TotalCharges        Contract  \\\n",
              "0     CUST_1      38     128.570307   4885.671652  Month-to-month   \n",
              "1     CUST_2      44     122.904332   5407.790597        One year   \n",
              "2     CUST_3      13      79.127233   1028.654035  Month-to-month   \n",
              "3     CUST_4       9      88.537223    796.835005  Month-to-month   \n",
              "4     CUST_5      10     148.100000   1481.000003        One year   \n",
              "\n",
              "      PaymentMethod  PaperlessBilling  AverageUsage   TotalUsage  Churn  \n",
              "0       Credit card                 0     34.577658  1313.950991      0  \n",
              "1     Bank transfer                 0     43.387375  1909.044500      0  \n",
              "2       Credit card                 0     14.974818   194.672633      0  \n",
              "3  Electronic check                 0     14.611459   131.503133      1  \n",
              "4  Electronic check                 1     15.346697   153.466972      0  "
            ]
          },
          "execution_count": 14,
          "metadata": {},
          "output_type": "execute_result"
        }
      ],
      "source": [
        "# Load dataset (replace this with your own path or dataset if needed)\n",
        "data = pd.read_csv('Customer.csv')\n",
        "data.head()"
      ]
    },
    {
      "cell_type": "markdown",
      "id": "d816122c",
      "metadata": {
        "id": "d816122c"
      },
      "source": [
        "### Step 3: Preprocess Data\n",
        "\n",
        "- Drop any missing values\n",
        "- Encode categorical values (like 'Yes'/'No') into numbers\n"
      ]
    },
    {
      "cell_type": "code",
      "execution_count": 15,
      "id": "cd73a568",
      "metadata": {
        "colab": {
          "base_uri": "https://localhost:8080/",
          "height": 397
        },
        "id": "cd73a568",
        "outputId": "79ce3a83-92ff-4afb-e6a8-8af573c1433b"
      },
      "outputs": [
        {
          "data": {
            "text/plain": [
              "CustomerID          0\n",
              "Tenure              0\n",
              "MonthlyCharge       0\n",
              "TotalCharges        0\n",
              "Contract            0\n",
              "PaymentMethod       0\n",
              "PaperlessBilling    0\n",
              "AverageUsage        0\n",
              "TotalUsage          0\n",
              "Churn               0\n",
              "dtype: int64"
            ]
          },
          "execution_count": 15,
          "metadata": {},
          "output_type": "execute_result"
        }
      ],
      "source": [
        "data.isnull().sum()"
      ]
    },
    {
      "cell_type": "code",
      "execution_count": 16,
      "id": "5ab264af",
      "metadata": {
        "id": "5ab264af"
      },
      "outputs": [],
      "source": [
        "# Step 2: Drop irrelevant column\n",
        "data = data.drop(columns=['CustomerID'])"
      ]
    },
    {
      "cell_type": "code",
      "execution_count": 17,
      "id": "bWcHzbMfErkV",
      "metadata": {
        "id": "bWcHzbMfErkV"
      },
      "outputs": [],
      "source": [
        "# Step 3: Handle missing values\n",
        "data = data.dropna()"
      ]
    },
    {
      "cell_type": "code",
      "execution_count": 18,
      "id": "ZGISx9bnFMYk",
      "metadata": {
        "id": "ZGISx9bnFMYk"
      },
      "outputs": [],
      "source": [
        "# Step 4: Encode categorical variables\n",
        "data['Churn'] = data['Churn'].astype(int)  # Ensure target is integer\n",
        "data = pd.get_dummies(data, columns=['Contract', 'PaymentMethod'], drop_first=True)"
      ]
    },
    {
      "cell_type": "markdown",
      "id": "Wvv2iB-hGCsM",
      "metadata": {
        "id": "Wvv2iB-hGCsM"
      },
      "source": [
        "### Step 4: Select Features and Labels\n",
        "\n",
        "Here we separate our **independent variables (X)** from our **dependent variable (y)**."
      ]
    },
    {
      "cell_type": "code",
      "execution_count": 19,
      "id": "4351a0ce",
      "metadata": {},
      "outputs": [
        {
          "data": {
            "text/plain": [
              "Index(['Tenure', 'MonthlyCharge', 'TotalCharges', 'PaperlessBilling',\n",
              "       'AverageUsage', 'TotalUsage', 'Churn', 'Contract_One year',\n",
              "       'Contract_Two year', 'PaymentMethod_Credit card',\n",
              "       'PaymentMethod_Electronic check', 'PaymentMethod_Mailed check'],\n",
              "      dtype='object')"
            ]
          },
          "execution_count": 19,
          "metadata": {},
          "output_type": "execute_result"
        }
      ],
      "source": [
        "data.columns"
      ]
    },
    {
      "cell_type": "code",
      "execution_count": 20,
      "id": "KdI2g8ObFTvk",
      "metadata": {
        "id": "KdI2g8ObFTvk"
      },
      "outputs": [],
      "source": [
        "# Step 5: Define features (X) and target (y)\n",
        "X = data.drop('Churn', axis=1)\n"
      ]
    },
    {
      "cell_type": "code",
      "execution_count": null,
      "id": "bed6e05d",
      "metadata": {},
      "outputs": [],
      "source": [
        "data.shape"
      ]
    },
    {
      "cell_type": "code",
      "execution_count": 22,
      "id": "46592feb",
      "metadata": {},
      "outputs": [],
      "source": [
        "y = data['Churn']"
      ]
    },
    {
      "cell_type": "markdown",
      "id": "am3CsTWFGIML",
      "metadata": {
        "id": "am3CsTWFGIML"
      },
      "source": [
        "### Step 5: Split Data into Training and Testing Sets\n",
        "\n",
        "We’ll train our model on one part and test it on the other to check performance"
      ]
    },
    {
      "cell_type": "code",
      "execution_count": 23,
      "id": "N-irUMNZFXU9",
      "metadata": {
        "id": "N-irUMNZFXU9"
      },
      "outputs": [],
      "source": [
        "# Step 6: Split dataset\n",
        "from sklearn.model_selection import train_test_split\n",
        "X_train, X_test, y_train, y_test = train_test_split(X, y, test_size=0.2, random_state=42)"
      ]
    },
    {
      "cell_type": "markdown",
      "id": "6LxNg6gzGMBZ",
      "metadata": {
        "id": "6LxNg6gzGMBZ"
      },
      "source": [
        "### Step 6: Train the Logistic Regression Model"
      ]
    },
    {
      "cell_type": "code",
      "execution_count": 24,
      "id": "iumUCN2TFbbf",
      "metadata": {
        "colab": {
          "base_uri": "https://localhost:8080/",
          "height": 218
        },
        "id": "iumUCN2TFbbf",
        "outputId": "356b98a5-dbc7-4139-9b48-5a71b09390e3"
      },
      "outputs": [
        {
          "name": "stderr",
          "output_type": "stream",
          "text": [
            "c:\\Users\\presh\\AppData\\Local\\Programs\\Python\\Python311\\Lib\\site-packages\\sklearn\\linear_model\\_logistic.py:469: ConvergenceWarning: lbfgs failed to converge (status=1):\n",
            "STOP: TOTAL NO. of ITERATIONS REACHED LIMIT.\n",
            "\n",
            "Increase the number of iterations (max_iter) or scale the data as shown in:\n",
            "    https://scikit-learn.org/stable/modules/preprocessing.html\n",
            "Please also refer to the documentation for alternative solver options:\n",
            "    https://scikit-learn.org/stable/modules/linear_model.html#logistic-regression\n",
            "  n_iter_i = _check_optimize_result(\n"
          ]
        },
        {
          "data": {
            "text/html": [
              "<style>#sk-container-id-1 {\n",
              "  /* Definition of color scheme common for light and dark mode */\n",
              "  --sklearn-color-text: black;\n",
              "  --sklearn-color-line: gray;\n",
              "  /* Definition of color scheme for unfitted estimators */\n",
              "  --sklearn-color-unfitted-level-0: #fff5e6;\n",
              "  --sklearn-color-unfitted-level-1: #f6e4d2;\n",
              "  --sklearn-color-unfitted-level-2: #ffe0b3;\n",
              "  --sklearn-color-unfitted-level-3: chocolate;\n",
              "  /* Definition of color scheme for fitted estimators */\n",
              "  --sklearn-color-fitted-level-0: #f0f8ff;\n",
              "  --sklearn-color-fitted-level-1: #d4ebff;\n",
              "  --sklearn-color-fitted-level-2: #b3dbfd;\n",
              "  --sklearn-color-fitted-level-3: cornflowerblue;\n",
              "\n",
              "  /* Specific color for light theme */\n",
              "  --sklearn-color-text-on-default-background: var(--sg-text-color, var(--theme-code-foreground, var(--jp-content-font-color1, black)));\n",
              "  --sklearn-color-background: var(--sg-background-color, var(--theme-background, var(--jp-layout-color0, white)));\n",
              "  --sklearn-color-border-box: var(--sg-text-color, var(--theme-code-foreground, var(--jp-content-font-color1, black)));\n",
              "  --sklearn-color-icon: #696969;\n",
              "\n",
              "  @media (prefers-color-scheme: dark) {\n",
              "    /* Redefinition of color scheme for dark theme */\n",
              "    --sklearn-color-text-on-default-background: var(--sg-text-color, var(--theme-code-foreground, var(--jp-content-font-color1, white)));\n",
              "    --sklearn-color-background: var(--sg-background-color, var(--theme-background, var(--jp-layout-color0, #111)));\n",
              "    --sklearn-color-border-box: var(--sg-text-color, var(--theme-code-foreground, var(--jp-content-font-color1, white)));\n",
              "    --sklearn-color-icon: #878787;\n",
              "  }\n",
              "}\n",
              "\n",
              "#sk-container-id-1 {\n",
              "  color: var(--sklearn-color-text);\n",
              "}\n",
              "\n",
              "#sk-container-id-1 pre {\n",
              "  padding: 0;\n",
              "}\n",
              "\n",
              "#sk-container-id-1 input.sk-hidden--visually {\n",
              "  border: 0;\n",
              "  clip: rect(1px 1px 1px 1px);\n",
              "  clip: rect(1px, 1px, 1px, 1px);\n",
              "  height: 1px;\n",
              "  margin: -1px;\n",
              "  overflow: hidden;\n",
              "  padding: 0;\n",
              "  position: absolute;\n",
              "  width: 1px;\n",
              "}\n",
              "\n",
              "#sk-container-id-1 div.sk-dashed-wrapped {\n",
              "  border: 1px dashed var(--sklearn-color-line);\n",
              "  margin: 0 0.4em 0.5em 0.4em;\n",
              "  box-sizing: border-box;\n",
              "  padding-bottom: 0.4em;\n",
              "  background-color: var(--sklearn-color-background);\n",
              "}\n",
              "\n",
              "#sk-container-id-1 div.sk-container {\n",
              "  /* jupyter's `normalize.less` sets `[hidden] { display: none; }`\n",
              "     but bootstrap.min.css set `[hidden] { display: none !important; }`\n",
              "     so we also need the `!important` here to be able to override the\n",
              "     default hidden behavior on the sphinx rendered scikit-learn.org.\n",
              "     See: https://github.com/scikit-learn/scikit-learn/issues/21755 */\n",
              "  display: inline-block !important;\n",
              "  position: relative;\n",
              "}\n",
              "\n",
              "#sk-container-id-1 div.sk-text-repr-fallback {\n",
              "  display: none;\n",
              "}\n",
              "\n",
              "div.sk-parallel-item,\n",
              "div.sk-serial,\n",
              "div.sk-item {\n",
              "  /* draw centered vertical line to link estimators */\n",
              "  background-image: linear-gradient(var(--sklearn-color-text-on-default-background), var(--sklearn-color-text-on-default-background));\n",
              "  background-size: 2px 100%;\n",
              "  background-repeat: no-repeat;\n",
              "  background-position: center center;\n",
              "}\n",
              "\n",
              "/* Parallel-specific style estimator block */\n",
              "\n",
              "#sk-container-id-1 div.sk-parallel-item::after {\n",
              "  content: \"\";\n",
              "  width: 100%;\n",
              "  border-bottom: 2px solid var(--sklearn-color-text-on-default-background);\n",
              "  flex-grow: 1;\n",
              "}\n",
              "\n",
              "#sk-container-id-1 div.sk-parallel {\n",
              "  display: flex;\n",
              "  align-items: stretch;\n",
              "  justify-content: center;\n",
              "  background-color: var(--sklearn-color-background);\n",
              "  position: relative;\n",
              "}\n",
              "\n",
              "#sk-container-id-1 div.sk-parallel-item {\n",
              "  display: flex;\n",
              "  flex-direction: column;\n",
              "}\n",
              "\n",
              "#sk-container-id-1 div.sk-parallel-item:first-child::after {\n",
              "  align-self: flex-end;\n",
              "  width: 50%;\n",
              "}\n",
              "\n",
              "#sk-container-id-1 div.sk-parallel-item:last-child::after {\n",
              "  align-self: flex-start;\n",
              "  width: 50%;\n",
              "}\n",
              "\n",
              "#sk-container-id-1 div.sk-parallel-item:only-child::after {\n",
              "  width: 0;\n",
              "}\n",
              "\n",
              "/* Serial-specific style estimator block */\n",
              "\n",
              "#sk-container-id-1 div.sk-serial {\n",
              "  display: flex;\n",
              "  flex-direction: column;\n",
              "  align-items: center;\n",
              "  background-color: var(--sklearn-color-background);\n",
              "  padding-right: 1em;\n",
              "  padding-left: 1em;\n",
              "}\n",
              "\n",
              "\n",
              "/* Toggleable style: style used for estimator/Pipeline/ColumnTransformer box that is\n",
              "clickable and can be expanded/collapsed.\n",
              "- Pipeline and ColumnTransformer use this feature and define the default style\n",
              "- Estimators will overwrite some part of the style using the `sk-estimator` class\n",
              "*/\n",
              "\n",
              "/* Pipeline and ColumnTransformer style (default) */\n",
              "\n",
              "#sk-container-id-1 div.sk-toggleable {\n",
              "  /* Default theme specific background. It is overwritten whether we have a\n",
              "  specific estimator or a Pipeline/ColumnTransformer */\n",
              "  background-color: var(--sklearn-color-background);\n",
              "}\n",
              "\n",
              "/* Toggleable label */\n",
              "#sk-container-id-1 label.sk-toggleable__label {\n",
              "  cursor: pointer;\n",
              "  display: block;\n",
              "  width: 100%;\n",
              "  margin-bottom: 0;\n",
              "  padding: 0.5em;\n",
              "  box-sizing: border-box;\n",
              "  text-align: center;\n",
              "}\n",
              "\n",
              "#sk-container-id-1 label.sk-toggleable__label-arrow:before {\n",
              "  /* Arrow on the left of the label */\n",
              "  content: \"▸\";\n",
              "  float: left;\n",
              "  margin-right: 0.25em;\n",
              "  color: var(--sklearn-color-icon);\n",
              "}\n",
              "\n",
              "#sk-container-id-1 label.sk-toggleable__label-arrow:hover:before {\n",
              "  color: var(--sklearn-color-text);\n",
              "}\n",
              "\n",
              "/* Toggleable content - dropdown */\n",
              "\n",
              "#sk-container-id-1 div.sk-toggleable__content {\n",
              "  max-height: 0;\n",
              "  max-width: 0;\n",
              "  overflow: hidden;\n",
              "  text-align: left;\n",
              "  /* unfitted */\n",
              "  background-color: var(--sklearn-color-unfitted-level-0);\n",
              "}\n",
              "\n",
              "#sk-container-id-1 div.sk-toggleable__content.fitted {\n",
              "  /* fitted */\n",
              "  background-color: var(--sklearn-color-fitted-level-0);\n",
              "}\n",
              "\n",
              "#sk-container-id-1 div.sk-toggleable__content pre {\n",
              "  margin: 0.2em;\n",
              "  border-radius: 0.25em;\n",
              "  color: var(--sklearn-color-text);\n",
              "  /* unfitted */\n",
              "  background-color: var(--sklearn-color-unfitted-level-0);\n",
              "}\n",
              "\n",
              "#sk-container-id-1 div.sk-toggleable__content.fitted pre {\n",
              "  /* unfitted */\n",
              "  background-color: var(--sklearn-color-fitted-level-0);\n",
              "}\n",
              "\n",
              "#sk-container-id-1 input.sk-toggleable__control:checked~div.sk-toggleable__content {\n",
              "  /* Expand drop-down */\n",
              "  max-height: 200px;\n",
              "  max-width: 100%;\n",
              "  overflow: auto;\n",
              "}\n",
              "\n",
              "#sk-container-id-1 input.sk-toggleable__control:checked~label.sk-toggleable__label-arrow:before {\n",
              "  content: \"▾\";\n",
              "}\n",
              "\n",
              "/* Pipeline/ColumnTransformer-specific style */\n",
              "\n",
              "#sk-container-id-1 div.sk-label input.sk-toggleable__control:checked~label.sk-toggleable__label {\n",
              "  color: var(--sklearn-color-text);\n",
              "  background-color: var(--sklearn-color-unfitted-level-2);\n",
              "}\n",
              "\n",
              "#sk-container-id-1 div.sk-label.fitted input.sk-toggleable__control:checked~label.sk-toggleable__label {\n",
              "  background-color: var(--sklearn-color-fitted-level-2);\n",
              "}\n",
              "\n",
              "/* Estimator-specific style */\n",
              "\n",
              "/* Colorize estimator box */\n",
              "#sk-container-id-1 div.sk-estimator input.sk-toggleable__control:checked~label.sk-toggleable__label {\n",
              "  /* unfitted */\n",
              "  background-color: var(--sklearn-color-unfitted-level-2);\n",
              "}\n",
              "\n",
              "#sk-container-id-1 div.sk-estimator.fitted input.sk-toggleable__control:checked~label.sk-toggleable__label {\n",
              "  /* fitted */\n",
              "  background-color: var(--sklearn-color-fitted-level-2);\n",
              "}\n",
              "\n",
              "#sk-container-id-1 div.sk-label label.sk-toggleable__label,\n",
              "#sk-container-id-1 div.sk-label label {\n",
              "  /* The background is the default theme color */\n",
              "  color: var(--sklearn-color-text-on-default-background);\n",
              "}\n",
              "\n",
              "/* On hover, darken the color of the background */\n",
              "#sk-container-id-1 div.sk-label:hover label.sk-toggleable__label {\n",
              "  color: var(--sklearn-color-text);\n",
              "  background-color: var(--sklearn-color-unfitted-level-2);\n",
              "}\n",
              "\n",
              "/* Label box, darken color on hover, fitted */\n",
              "#sk-container-id-1 div.sk-label.fitted:hover label.sk-toggleable__label.fitted {\n",
              "  color: var(--sklearn-color-text);\n",
              "  background-color: var(--sklearn-color-fitted-level-2);\n",
              "}\n",
              "\n",
              "/* Estimator label */\n",
              "\n",
              "#sk-container-id-1 div.sk-label label {\n",
              "  font-family: monospace;\n",
              "  font-weight: bold;\n",
              "  display: inline-block;\n",
              "  line-height: 1.2em;\n",
              "}\n",
              "\n",
              "#sk-container-id-1 div.sk-label-container {\n",
              "  text-align: center;\n",
              "}\n",
              "\n",
              "/* Estimator-specific */\n",
              "#sk-container-id-1 div.sk-estimator {\n",
              "  font-family: monospace;\n",
              "  border: 1px dotted var(--sklearn-color-border-box);\n",
              "  border-radius: 0.25em;\n",
              "  box-sizing: border-box;\n",
              "  margin-bottom: 0.5em;\n",
              "  /* unfitted */\n",
              "  background-color: var(--sklearn-color-unfitted-level-0);\n",
              "}\n",
              "\n",
              "#sk-container-id-1 div.sk-estimator.fitted {\n",
              "  /* fitted */\n",
              "  background-color: var(--sklearn-color-fitted-level-0);\n",
              "}\n",
              "\n",
              "/* on hover */\n",
              "#sk-container-id-1 div.sk-estimator:hover {\n",
              "  /* unfitted */\n",
              "  background-color: var(--sklearn-color-unfitted-level-2);\n",
              "}\n",
              "\n",
              "#sk-container-id-1 div.sk-estimator.fitted:hover {\n",
              "  /* fitted */\n",
              "  background-color: var(--sklearn-color-fitted-level-2);\n",
              "}\n",
              "\n",
              "/* Specification for estimator info (e.g. \"i\" and \"?\") */\n",
              "\n",
              "/* Common style for \"i\" and \"?\" */\n",
              "\n",
              ".sk-estimator-doc-link,\n",
              "a:link.sk-estimator-doc-link,\n",
              "a:visited.sk-estimator-doc-link {\n",
              "  float: right;\n",
              "  font-size: smaller;\n",
              "  line-height: 1em;\n",
              "  font-family: monospace;\n",
              "  background-color: var(--sklearn-color-background);\n",
              "  border-radius: 1em;\n",
              "  height: 1em;\n",
              "  width: 1em;\n",
              "  text-decoration: none !important;\n",
              "  margin-left: 1ex;\n",
              "  /* unfitted */\n",
              "  border: var(--sklearn-color-unfitted-level-1) 1pt solid;\n",
              "  color: var(--sklearn-color-unfitted-level-1);\n",
              "}\n",
              "\n",
              ".sk-estimator-doc-link.fitted,\n",
              "a:link.sk-estimator-doc-link.fitted,\n",
              "a:visited.sk-estimator-doc-link.fitted {\n",
              "  /* fitted */\n",
              "  border: var(--sklearn-color-fitted-level-1) 1pt solid;\n",
              "  color: var(--sklearn-color-fitted-level-1);\n",
              "}\n",
              "\n",
              "/* On hover */\n",
              "div.sk-estimator:hover .sk-estimator-doc-link:hover,\n",
              ".sk-estimator-doc-link:hover,\n",
              "div.sk-label-container:hover .sk-estimator-doc-link:hover,\n",
              ".sk-estimator-doc-link:hover {\n",
              "  /* unfitted */\n",
              "  background-color: var(--sklearn-color-unfitted-level-3);\n",
              "  color: var(--sklearn-color-background);\n",
              "  text-decoration: none;\n",
              "}\n",
              "\n",
              "div.sk-estimator.fitted:hover .sk-estimator-doc-link.fitted:hover,\n",
              ".sk-estimator-doc-link.fitted:hover,\n",
              "div.sk-label-container:hover .sk-estimator-doc-link.fitted:hover,\n",
              ".sk-estimator-doc-link.fitted:hover {\n",
              "  /* fitted */\n",
              "  background-color: var(--sklearn-color-fitted-level-3);\n",
              "  color: var(--sklearn-color-background);\n",
              "  text-decoration: none;\n",
              "}\n",
              "\n",
              "/* Span, style for the box shown on hovering the info icon */\n",
              ".sk-estimator-doc-link span {\n",
              "  display: none;\n",
              "  z-index: 9999;\n",
              "  position: relative;\n",
              "  font-weight: normal;\n",
              "  right: .2ex;\n",
              "  padding: .5ex;\n",
              "  margin: .5ex;\n",
              "  width: min-content;\n",
              "  min-width: 20ex;\n",
              "  max-width: 50ex;\n",
              "  color: var(--sklearn-color-text);\n",
              "  box-shadow: 2pt 2pt 4pt #999;\n",
              "  /* unfitted */\n",
              "  background: var(--sklearn-color-unfitted-level-0);\n",
              "  border: .5pt solid var(--sklearn-color-unfitted-level-3);\n",
              "}\n",
              "\n",
              ".sk-estimator-doc-link.fitted span {\n",
              "  /* fitted */\n",
              "  background: var(--sklearn-color-fitted-level-0);\n",
              "  border: var(--sklearn-color-fitted-level-3);\n",
              "}\n",
              "\n",
              ".sk-estimator-doc-link:hover span {\n",
              "  display: block;\n",
              "}\n",
              "\n",
              "/* \"?\"-specific style due to the `<a>` HTML tag */\n",
              "\n",
              "#sk-container-id-1 a.estimator_doc_link {\n",
              "  float: right;\n",
              "  font-size: 1rem;\n",
              "  line-height: 1em;\n",
              "  font-family: monospace;\n",
              "  background-color: var(--sklearn-color-background);\n",
              "  border-radius: 1rem;\n",
              "  height: 1rem;\n",
              "  width: 1rem;\n",
              "  text-decoration: none;\n",
              "  /* unfitted */\n",
              "  color: var(--sklearn-color-unfitted-level-1);\n",
              "  border: var(--sklearn-color-unfitted-level-1) 1pt solid;\n",
              "}\n",
              "\n",
              "#sk-container-id-1 a.estimator_doc_link.fitted {\n",
              "  /* fitted */\n",
              "  border: var(--sklearn-color-fitted-level-1) 1pt solid;\n",
              "  color: var(--sklearn-color-fitted-level-1);\n",
              "}\n",
              "\n",
              "/* On hover */\n",
              "#sk-container-id-1 a.estimator_doc_link:hover {\n",
              "  /* unfitted */\n",
              "  background-color: var(--sklearn-color-unfitted-level-3);\n",
              "  color: var(--sklearn-color-background);\n",
              "  text-decoration: none;\n",
              "}\n",
              "\n",
              "#sk-container-id-1 a.estimator_doc_link.fitted:hover {\n",
              "  /* fitted */\n",
              "  background-color: var(--sklearn-color-fitted-level-3);\n",
              "}\n",
              "</style><div id=\"sk-container-id-1\" class=\"sk-top-container\"><div class=\"sk-text-repr-fallback\"><pre>LogisticRegression(max_iter=1000)</pre><b>In a Jupyter environment, please rerun this cell to show the HTML representation or trust the notebook. <br />On GitHub, the HTML representation is unable to render, please try loading this page with nbviewer.org.</b></div><div class=\"sk-container\" hidden><div class=\"sk-item\"><div class=\"sk-estimator fitted sk-toggleable\"><input class=\"sk-toggleable__control sk-hidden--visually\" id=\"sk-estimator-id-1\" type=\"checkbox\" checked><label for=\"sk-estimator-id-1\" class=\"sk-toggleable__label fitted sk-toggleable__label-arrow fitted\">&nbsp;&nbsp;LogisticRegression<a class=\"sk-estimator-doc-link fitted\" rel=\"noreferrer\" target=\"_blank\" href=\"https://scikit-learn.org/1.4/modules/generated/sklearn.linear_model.LogisticRegression.html\">?<span>Documentation for LogisticRegression</span></a><span class=\"sk-estimator-doc-link fitted\">i<span>Fitted</span></span></label><div class=\"sk-toggleable__content fitted\"><pre>LogisticRegression(max_iter=1000)</pre></div> </div></div></div></div>"
            ],
            "text/plain": [
              "LogisticRegression(max_iter=1000)"
            ]
          },
          "execution_count": 24,
          "metadata": {},
          "output_type": "execute_result"
        }
      ],
      "source": [
        "# Step 7: Train Logistic Regression\n",
        "from sklearn.linear_model import LogisticRegression\n",
        "model = LogisticRegression(max_iter=1000)\n",
        "model.fit(X_train, y_train)\n"
      ]
    },
    {
      "cell_type": "markdown",
      "id": "dPQwv7iIGRRS",
      "metadata": {
        "id": "dPQwv7iIGRRS"
      },
      "source": [
        "### Step 7: Make Predictions"
      ]
    },
    {
      "cell_type": "code",
      "execution_count": 25,
      "id": "qxjzw3pVFg8Y",
      "metadata": {
        "id": "qxjzw3pVFg8Y"
      },
      "outputs": [],
      "source": [
        "# Step 8: Predict\n",
        "y_pred = model.predict(X_test)"
      ]
    },
    {
      "cell_type": "markdown",
      "id": "n35_OLEtGXEl",
      "metadata": {
        "id": "n35_OLEtGXEl"
      },
      "source": [
        "### Step 8: Evaluate the Model\n",
        "\n",
        "Let’s calculate:\n",
        "- Confusion Matrix\n",
        "- Accuracy\n",
        "- Precision\n",
        "- Recall\n",
        "- F1-Score"
      ]
    },
    {
      "cell_type": "code",
      "execution_count": 26,
      "id": "tabOPFFQFn1x",
      "metadata": {
        "colab": {
          "base_uri": "https://localhost:8080/"
        },
        "id": "tabOPFFQFn1x",
        "outputId": "a4b5c913-4cf5-4e82-d2d2-4fe67e81fb13"
      },
      "outputs": [
        {
          "name": "stdout",
          "output_type": "stream",
          "text": [
            "Confusion Matrix:\n",
            "[[1498    0]\n",
            " [ 502    0]]\n",
            "Accuracy: 74.90%\n",
            "Precision: 37.45%\n",
            "Recall: 50.00%\n",
            "F1-Score: 42.82%\n"
          ]
        },
        {
          "name": "stderr",
          "output_type": "stream",
          "text": [
            "c:\\Users\\presh\\AppData\\Local\\Programs\\Python\\Python311\\Lib\\site-packages\\sklearn\\metrics\\_classification.py:1509: UndefinedMetricWarning: Precision is ill-defined and being set to 0.0 in labels with no predicted samples. Use `zero_division` parameter to control this behavior.\n",
            "  _warn_prf(average, modifier, f\"{metric.capitalize()} is\", len(result))\n"
          ]
        }
      ],
      "source": [
        "# Step 9: Evaluate\n",
        "from sklearn.metrics import confusion_matrix, accuracy_score, precision_score, recall_score, f1_score\n",
        "cm = confusion_matrix(y_test, y_pred)\n",
        "accuracy = accuracy_score(y_test, y_pred)\n",
        "precision = precision_score(y_test, y_pred, average='macro')\n",
        "recall = recall_score(y_test, y_pred, average='macro')\n",
        "f1 = f1_score(y_test, y_pred, average='macro')\n",
        "\n",
        "print(\"Confusion Matrix:\")\n",
        "print(cm)\n",
        "print(f\"Accuracy: {accuracy * 100:.2f}%\")\n",
        "print(f\"Precision: {precision * 100:.2f}%\")\n",
        "print(f\"Recall: {recall * 100:.2f}%\")\n",
        "print(f\"F1-Score: {f1 * 100:.2f}%\")"
      ]
    },
    {
      "cell_type": "markdown",
      "id": "hUXZY73dGbc7",
      "metadata": {
        "id": "hUXZY73dGbc7"
      },
      "source": [
        "### Step 9: Plot Confusion Matrix\n",
        "\n",
        "A visual form of confusion matrix helps better understanding."
      ]
    },
    {
      "cell_type": "code",
      "execution_count": 27,
      "id": "fNKOSNjiFxWn",
      "metadata": {
        "colab": {
          "base_uri": "https://localhost:8080/",
          "height": 472
        },
        "id": "fNKOSNjiFxWn",
        "outputId": "3f5e5e18-f3f2-4866-f895-ff2b8b80f484"
      },
      "outputs": [
        {
          "data": {
            "image/png": "[encoded data removed]",
            "text/plain": [
              "<Figure size 640x480 with 2 Axes>"
            ]
          },
          "metadata": {},
          "output_type": "display_data"
        }
      ],
      "source": [
        "# Step 10: Visualize Confusion Matrix\n",
        "import seaborn as sns\n",
        "import matplotlib.pyplot as plt\n",
        "\n",
        "sns.heatmap(cm, annot=True, fmt='d',cmap='Blues', xticklabels=['No Churn', 'Churn'], yticklabels=['No Churn', 'Churn'])\n",
        "plt.xlabel('Predicted')\n",
        "plt.ylabel('True')\n",
        "plt.title('Confusion Matrix')\n",
        "plt.show()\n"
      ]
    },
    {
      "cell_type": "markdown",
      "id": "085b0214",
      "metadata": {
        "id": "085b0214"
      },
      "source": [
        "## 3. Understanding Evaluation Metrics\n",
        "\n",
        "### Confusion Matrix\n",
        "\n",
        "\n",
        "True Positives (TP): Correctly predicted churned customers.\n",
        "\n",
        "\n",
        "True Negatives (TN): Correctly predicted non-churned customers.\n",
        "\n",
        "\n",
        "False Positives (FP): Incorrectly predicted churned customers.\n",
        "\n",
        "\n",
        "False Negatives (FN): Incorrectly predicted non-churned customers.\n",
        "\n",
        "\n",
        "|                    | Actual: Yes   | Actual: No            |\n",
        "|--------------------|---------------|-----------------------|\n",
        "| **Predicted: Yes** | True Positive (TP) | False Positive(FP) |\n",
        "| **Predicted: No**| False Negative (FN) | True Negative(TN) |\n",
        "\n",
        "### Classification Metrics:\n",
        "\n",
        "- **Accuracy** = (TP + TN) / (TP + TN + FP + FN)\n",
        "- **Precision** = TP / (TP + FP)\n",
        "- **Recall** = TP / (TP + FN)\n",
        "- **F1 Score** = 2 * (Precision * Recall) / (Precision + Recall)\n",
        "\n",
        "Each metric gives different insights — we use all of them to understand performance.\n"
      ]
    },
    {
      "cell_type": "markdown",
      "id": "9427ffa0",
      "metadata": {
        "id": "9427ffa0"
      },
      "source": [
        "## 4. Wrap-Up and Hands-On Practice\n",
        "\n",
        "### Recap:\n",
        "- Logistic Regression is great for binary classification problems.\n",
        "- We implemented it using scikit-learn.\n",
        "- We evaluated it using Accuracy, Precision, Recall, and F1-Score.\n",
        "\n",
        "### Hands-On Activity:\n",
        "Use a different dataset (like spam detection or bank marketing) and try:\n",
        "- Changing the features\n",
        "- Comparing performance\n",
        "- Interpreting results using the same metrics\n",
        "\n",
        "Good Luck!\n"
      ]
    }
  ],
  "metadata": {
    "colab": {
      "provenance": []
    },
    "kernelspec": {
      "display_name": "Python 3",
      "language": "python",
      "name": "python3"
    },
    "language_info": {
      "codemirror_mode": {
        "name": "ipython",
        "version": 3
      },
      "file_extension": ".py",
      "mimetype": "text/x-python",
      "name": "python",
      "nbconvert_exporter": "python",
      "pygments_lexer": "ipython3",
      "version": "3.11.5"
    }
  },
  "nbformat": 4,
  "nbformat_minor": 5
}
