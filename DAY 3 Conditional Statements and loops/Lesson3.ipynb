{
 "cells": [
  {
   "cell_type": "markdown",
   "id": "8da54883",
   "metadata": {},
   "source": [
    "## Lesson Plan: Class 3 – Conditional Statements and Loops\n",
    "### Duration: 2 Hours\n",
    "Objective: By the end of the class, students will understand how to use conditional statements (if-else) and loops (for, while) in Python. They will also learn loop control statements (break, continue, pass) to manage program flow effectively.\n"
   ]
  },
  {
   "cell_type": "markdown",
   "id": "915aa484",
   "metadata": {},
   "source": [
    "1. Warm-Up (10 minutes)\n",
    "Discussion:\n",
    "Ask students:\n",
    "\n",
    "\n",
    "\"Have you ever played a game that reacts differently based on your choices?\"\n",
    "\n",
    "\n",
    "\"How do you think programs make decisions?\"\n",
    "\n",
    "\n",
    "Briefly introduce conditional statements as a way for programs to make decisions.\n",
    "\n",
    "\n",
    "Introduce loops as a way to repeat tasks automatically."
   ]
  },
  {
   "cell_type": "markdown",
   "id": "7e5deadd",
   "metadata": {},
   "source": [
    "Conditional Statements – Making Decisions\n",
    "Conditional statements allow a program to make decisions based on conditions.\n",
    "Just like how you decide what to wear based on the weather, a program can decide what to do based on inputs or values."
   ]
  },
  {
   "cell_type": "code",
   "execution_count": 1,
   "id": "241215b5",
   "metadata": {},
   "outputs": [
    {
     "name": "stdout",
     "output_type": "stream",
     "text": [
      "You can vote.\n"
     ]
    }
   ],
   "source": [
    "age = 18\n",
    "if age >= 18:\n",
    "    print(\"You can vote.\")\n",
    "else:\n",
    "    print(\"You cannot vote.\")\n"
   ]
  },
  {
   "cell_type": "markdown",
   "id": "48f620bb",
   "metadata": {},
   "source": [
    "Loops – Repeating Tasks Automatically\n",
    "Loops let a program repeat a task multiple times without writing the same code over and over.\n",
    "\n",
    "For example, if you wanted to say \"Hello\" 5 times, instead of writing print(\"Hello\") five times, you can use a loop."
   ]
  },
  {
   "cell_type": "code",
   "execution_count": 2,
   "id": "625a742f",
   "metadata": {},
   "outputs": [
    {
     "name": "stdout",
     "output_type": "stream",
     "text": [
      "Hello\n",
      "Hello\n",
      "Hello\n",
      "Hello\n",
      "Hello\n"
     ]
    }
   ],
   "source": [
    "for i in range(5):\n",
    "    print(\"Hello\")\n"
   ]
  },
  {
   "cell_type": "markdown",
   "id": "eca2f09a",
   "metadata": {},
   "source": [
    "2. Understanding Conditional Statements (25 minutes)\n",
    "Concepts Covered:\n",
    "if, if-else, and if-elif-else statements\n",
    "\n",
    "\n",
    "Nesting if statements\n",
    "\n",
    "\n",
    "Real-world examples (e.g., checking if a user is eligible to vote)\n"
   ]
  },
  {
   "cell_type": "code",
   "execution_count": 3,
   "id": "76b8ba7c",
   "metadata": {},
   "outputs": [
    {
     "name": "stdout",
     "output_type": "stream",
     "text": [
      "Nice weather\n"
     ]
    }
   ],
   "source": [
    "temp = int(input(\"Enter temperature: \"))\n",
    "if temp > 30:\n",
    "    print(\"It's hot\")\n",
    "else:\n",
    "    print(\"Nice weather\")\n"
   ]
  },
  {
   "cell_type": "code",
   "execution_count": 4,
   "id": "6b7727c3",
   "metadata": {},
   "outputs": [
    {
     "name": "stdout",
     "output_type": "stream",
     "text": [
      "Grade: B\n"
     ]
    }
   ],
   "source": [
    "score = int(input(\"Enter your score: \"))\n",
    "if score >= 90:\n",
    "    print(\"Grade: A\")\n",
    "elif score >= 80:\n",
    "    print(\"Grade: B\")\n",
    "else:\n",
    "    print(\"Grade: C or below\")\n"
   ]
  },
  {
   "cell_type": "code",
   "execution_count": 5,
   "id": "cff2ead1",
   "metadata": {},
   "outputs": [
    {
     "name": "stdout",
     "output_type": "stream",
     "text": [
      "You can vote.\n"
     ]
    }
   ],
   "source": [
    "age = int(input(\"Enter your age: \"))\n",
    "if age >= 18:\n",
    "    nationality = input(\"Are you a citizen? (yes/no): \")\n",
    "    if nationality == 'yes':\n",
    "        print(\"You can vote.\")\n",
    "    else:\n",
    "        print(\"You need to be a citizen to vote.\")\n",
    "else:\n",
    "    print(\"You must be 18+ to vote.\")\n"
   ]
  },
  {
   "cell_type": "markdown",
   "id": "25df9a24",
   "metadata": {},
   "source": [
    "✅ Mini Practice Task (5 min):\n",
    "\"Write a program that checks if a number is positive, negative, or zero.\""
   ]
  },
  {
   "cell_type": "markdown",
   "id": "81ec9f37",
   "metadata": {},
   "source": [
    "3. Introduction to Loops – 25 minutes\n",
    "Concepts:\n",
    "\n",
    "for loop with range\n",
    "\n",
    "Iterating over lists\n",
    "\n",
    "while loop with condition"
   ]
  },
  {
   "cell_type": "code",
   "execution_count": 1,
   "id": "c35cd41b",
   "metadata": {},
   "outputs": [
    {
     "name": "stdout",
     "output_type": "stream",
     "text": [
      "0\n",
      "1\n",
      "2\n",
      "3\n",
      "4\n"
     ]
    }
   ],
   "source": [
    "for item in range(5): # n-1\n",
    "    print(item)\n"
   ]
  },
  {
   "cell_type": "code",
   "execution_count": 16,
   "id": "ce007a3d",
   "metadata": {},
   "outputs": [
    {
     "name": "stdout",
     "output_type": "stream",
     "text": [
      "Number: 0\n",
      "Number: 1\n",
      "Number: 2\n",
      "Number: 3\n",
      "Number: 4\n"
     ]
    }
   ],
   "source": [
    "for i in range(5):\n",
    "    print(\"Number:\", i)\n"
   ]
  },
  {
   "cell_type": "code",
   "execution_count": 2,
   "id": "c45239d5",
   "metadata": {},
   "outputs": [
    {
     "name": "stdout",
     "output_type": "stream",
     "text": [
      "1\n",
      "2\n",
      "3\n",
      "4\n",
      "5\n"
     ]
    }
   ],
   "source": [
    "for i in range(1, 6): #start 1 stop 6-1 5\n",
    "    print( i)\n"
   ]
  },
  {
   "cell_type": "code",
   "execution_count": null,
   "id": "9f7622d9",
   "metadata": {},
   "outputs": [
    {
     "name": "stdout",
     "output_type": "stream",
     "text": [
      "0\n",
      "2\n",
      "4\n",
      "6\n",
      "8\n"
     ]
    }
   ],
   "source": [
    "for i in range(0, 10, 2): # range(start, stop-1, step interval)\n",
    "    print(i)\n"
   ]
  },
  {
   "cell_type": "code",
   "execution_count": 4,
   "id": "2fa300dc",
   "metadata": {},
   "outputs": [
    {
     "name": "stdout",
     "output_type": "stream",
     "text": [
      "apple\n",
      "banana\n",
      "cherry\n"
     ]
    }
   ],
   "source": [
    "fruits = ['apple', 'banana', 'cherry']\n",
    "for item in ['apple', 'banana', 'cherry']:\n",
    "    print(item)\n"
   ]
  },
  {
   "cell_type": "code",
   "execution_count": 18,
   "id": "78b31740",
   "metadata": {},
   "outputs": [
    {
     "name": "stdout",
     "output_type": "stream",
     "text": [
      "h\n",
      "e\n",
      "l\n",
      "l\n",
      "o\n"
     ]
    }
   ],
   "source": [
    "for letter in \"hello\":\n",
    "    print(letter)\n"
   ]
  },
  {
   "cell_type": "code",
   "execution_count": 19,
   "id": "b1f8ea32",
   "metadata": {},
   "outputs": [
    {
     "name": "stdout",
     "output_type": "stream",
     "text": [
      "5\n",
      "4\n",
      "3\n",
      "2\n",
      "1\n"
     ]
    }
   ],
   "source": [
    "for i in range(5, 0, -1):\n",
    "    print(i)\n"
   ]
  },
  {
   "cell_type": "code",
   "execution_count": 20,
   "id": "8df9e2a6",
   "metadata": {},
   "outputs": [
    {
     "name": "stdout",
     "output_type": "stream",
     "text": [
      "cherry\n",
      "banana\n",
      "apple\n"
     ]
    }
   ],
   "source": [
    "fruits = [\"apple\", \"banana\", \"cherry\"]\n",
    "for fruit in reversed(fruits):\n",
    "    print(fruit)\n"
   ]
  },
  {
   "cell_type": "code",
   "execution_count": 7,
   "id": "3f0ca5f9",
   "metadata": {},
   "outputs": [
    {
     "name": "stdout",
     "output_type": "stream",
     "text": [
      "5\n",
      "4\n",
      "3\n",
      "2\n",
      "1\n"
     ]
    }
   ],
   "source": [
    "n = 5\n",
    "while n > 0:\n",
    "    print(n)\n",
    "    n= n-1"
   ]
  },
  {
   "cell_type": "code",
   "execution_count": 8,
   "id": "a4353ecc",
   "metadata": {},
   "outputs": [
    {
     "name": "stdout",
     "output_type": "stream",
     "text": [
      "5\n",
      "4\n",
      "3\n",
      "2\n",
      "1\n"
     ]
    }
   ],
   "source": [
    "n = 5\n",
    "while n > 0:\n",
    "    print(n)\n",
    "    n= n-1"
   ]
  },
  {
   "cell_type": "markdown",
   "id": "8b7db715",
   "metadata": {},
   "source": [
    "✅ Practice Prompt (5 min):\n",
    "\"Print even numbers from 2 to 20 using a for loop.\""
   ]
  },
  {
   "cell_type": "markdown",
   "id": "84b86d19",
   "metadata": {},
   "source": [
    "4. Loop Control Statements – 20 minutes\n",
    "Concepts Covered:\n",
    "\n",
    "break (exit a loop early)\n",
    "\n",
    "\n",
    "continue (skip the current iteration)\n",
    "\n",
    "\n",
    "pass (placeholder statement)\n"
   ]
  },
  {
   "cell_type": "code",
   "execution_count": null,
   "id": "88bad0bd",
   "metadata": {},
   "outputs": [
    {
     "name": "stdout",
     "output_type": "stream",
     "text": [
      "0\n",
      "1\n",
      "2\n",
      "3\n",
      "4\n"
     ]
    }
   ],
   "source": [
    "for i in range(10):\n",
    "    if i == 5: \n",
    "        break\n",
    "    print(i)\n"
   ]
  },
  {
   "cell_type": "code",
   "execution_count": 10,
   "id": "3be17477",
   "metadata": {},
   "outputs": [
    {
     "name": "stdout",
     "output_type": "stream",
     "text": [
      "0\n",
      "1\n",
      "2\n",
      "4\n",
      "5\n"
     ]
    }
   ],
   "source": [
    "for i in range(6):\n",
    "    if i == 3:\n",
    "        continue\n",
    "    print(i)\n"
   ]
  },
  {
   "cell_type": "code",
   "execution_count": 11,
   "id": "921165ff",
   "metadata": {},
   "outputs": [],
   "source": [
    "for i in range(3):\n",
    "     pass"
   ]
  },
  {
   "cell_type": "markdown",
   "id": "e964c430",
   "metadata": {},
   "source": [
    "✅ Challenge (5 min):\n",
    "\"Use continue to print numbers from 1 to 10 skipping 4 and 7.\""
   ]
  },
  {
   "cell_type": "markdown",
   "id": "97d71896",
   "metadata": {},
   "source": [
    "5. Hands-On Activity (30 minutes)"
   ]
  },
  {
   "cell_type": "markdown",
   "id": "9cf39786",
   "metadata": {},
   "source": [
    "Write a Python program that asks for a number and checks if it is even or odd using if-else."
   ]
  },
  {
   "cell_type": "code",
   "execution_count": 12,
   "id": "7efa9e92",
   "metadata": {},
   "outputs": [
    {
     "name": "stdout",
     "output_type": "stream",
     "text": [
      "Even\n"
     ]
    }
   ],
   "source": [
    "num = int(input(\"Enter a number: \"))\n",
    "if num % 2 == 0:\n",
    "    print(\"Even\")\n",
    "else:\n",
    "    print(\"Odd\")\n"
   ]
  },
  {
   "cell_type": "markdown",
   "id": "59095fc0",
   "metadata": {},
   "source": [
    "Create a loop that prints numbers from 1 to 20 but skips multiples of 3 using continue."
   ]
  },
  {
   "cell_type": "code",
   "execution_count": 13,
   "id": "5273740b",
   "metadata": {},
   "outputs": [
    {
     "name": "stdout",
     "output_type": "stream",
     "text": [
      "1\n",
      "2\n",
      "4\n",
      "5\n",
      "7\n",
      "8\n",
      "10\n",
      "11\n",
      "13\n",
      "14\n",
      "16\n",
      "17\n",
      "19\n",
      "20\n"
     ]
    }
   ],
   "source": [
    "for i in range(1, 21):\n",
    "    if i % 3 == 0:\n",
    "        continue\n",
    "    print(i)"
   ]
  },
  {
   "cell_type": "markdown",
   "id": "0d3094c9",
   "metadata": {},
   "source": [
    "Create a guessing game where the user has 3 chances to guess a number correctly using a while loop."
   ]
  },
  {
   "cell_type": "code",
   "execution_count": 13,
   "id": "51c57af7",
   "metadata": {},
   "outputs": [
    {
     "name": "stdout",
     "output_type": "stream",
     "text": [
      "Wrong!\n",
      "Correct!\n"
     ]
    }
   ],
   "source": [
    "secret = 7\n",
    "attempts = 0\n",
    "\n",
    "while attempts < 3:\n",
    "    guess = int(input(\"Guess the number: \"))\n",
    "    if guess == secret:\n",
    "        print(\"Correct!\")\n",
    "        break\n",
    "    else:\n",
    "        print(\"Wrong!\")\n",
    "    attempts = attempts +  1\n"
   ]
  },
  {
   "cell_type": "markdown",
   "id": "afb4b45d",
   "metadata": {},
   "source": [
    "6. Wrap-Up and Homework (10 minutes)\n",
    "Recap:\n",
    "The importance of conditional statements in decision-making.\n",
    "\n",
    "\n",
    "How loops automate repetitive tasks.\n",
    "\n",
    "\n",
    "When to use break, continue, and pass."
   ]
  },
  {
   "cell_type": "code",
   "execution_count": null,
   "id": "a3895bd4",
   "metadata": {},
   "outputs": [],
   "source": []
  },
  {
   "cell_type": "markdown",
   "id": "efb23186",
   "metadata": {},
   "source": [
    "Homework:\n",
    "Modify the guessing game to provide hints if the guessed number is too high or too low.\n",
    "\n",
    "\n",
    "Write a program that prints the first 10 numbers of the Fibonacci sequence using a loop.\n"
   ]
  },
  {
   "cell_type": "code",
   "execution_count": 16,
   "id": "f03558f2",
   "metadata": {},
   "outputs": [
    {
     "name": "stdout",
     "output_type": "stream",
     "text": [
      "0\n",
      "1\n",
      "1\n",
      "2\n",
      "3\n",
      "5\n",
      "8\n",
      "13\n",
      "21\n",
      "34\n"
     ]
    }
   ],
   "source": [
    "\n",
    "first = 0\n",
    "second = 1\n",
    "\n",
    "for i in range(10):\n",
    "    print(first) # 0 n1=0 1 \n",
    "    third_number = first + second#third_no= 0+1= 1 1+1=2 \n",
    "    first = second # first no ma second no bascha first= 1\n",
    "    second =third_number # 1 second= 1\n"
   ]
  },
  {
   "cell_type": "markdown",
   "id": "a48a41f5",
   "metadata": {},
   "source": [
    "0 1 1 2 3 5 8 "
   ]
  },
  {
   "cell_type": "code",
   "execution_count": 14,
   "id": "7b37913f",
   "metadata": {},
   "outputs": [
    {
     "name": "stdout",
     "output_type": "stream",
     "text": [
      "Too low!\n",
      "Too high!\n",
      "Correct!\n"
     ]
    }
   ],
   "source": [
    "secret = 7\n",
    "attempts = 0\n",
    "\n",
    "while attempts < 3:\n",
    "    guess = int(input(\"Guess the number: \"))\n",
    "    \n",
    "    if guess == secret:\n",
    "        print(\"Correct!\")\n",
    "        break\n",
    "    elif guess < secret:\n",
    "        print(\"Too low!\")\n",
    "    else:\n",
    "        print(\"Too high!\")\n",
    "    \n",
    "    attempts += 1\n"
   ]
  },
  {
   "cell_type": "code",
   "execution_count": null,
   "id": "dbb00693",
   "metadata": {},
   "outputs": [],
   "source": []
  }
 ],
 "metadata": {
  "kernelspec": {
   "display_name": "Python 3",
   "language": "python",
   "name": "python3"
  },
  "language_info": {
   "codemirror_mode": {
    "name": "ipython",
    "version": 3
   },
   "file_extension": ".py",
   "mimetype": "text/x-python",
   "name": "python",
   "nbconvert_exporter": "python",
   "pygments_lexer": "ipython3",
   "version": "3.11.5"
  }
 },
 "nbformat": 4,
 "nbformat_minor": 5
}
