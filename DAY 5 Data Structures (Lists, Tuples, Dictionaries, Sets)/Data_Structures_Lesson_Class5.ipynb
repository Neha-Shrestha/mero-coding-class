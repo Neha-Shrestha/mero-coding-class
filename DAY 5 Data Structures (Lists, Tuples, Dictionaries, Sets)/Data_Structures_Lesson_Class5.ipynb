{
 "cells": [
  {
   "cell_type": "markdown",
   "id": "f6aab62f",
   "metadata": {},
   "source": [
    "# Class 5 – Data Structures in Python\n",
    "\n",
    "## Warm-Up Discussion\n",
    "\n",
    "Before diving into Python's data structures, think about the following questions:\n",
    "\n",
    "- **How do we store and organize data in Python?**\n",
    "- **Which data structure would you use for a list of students – a list, a dictionary, or a set?**\n",
    "\n",
    "### Why Different Data Structures?\n",
    "\n",
    "Imagine organizing your wardrobe:\n",
    "- **List** is like a rack where you store clothes in order.\n",
    "- **Tuple** is like a sealed box—once packed, you can't change the contents.\n",
    "- **Dictionary** is like labeled drawers (socks in one, t-shirts in another).\n",
    "- **Set** is like a pile of laundry where duplicates don’t make sense (one of each item only).\n",
    "\n",
    "Each structure exists because we often need to store and manage data differently depending on the task.\n"
   ]
  },
  {
   "cell_type": "markdown",
   "id": "42b136d3",
   "metadata": {},
   "source": [
    "word = meaning \n",
    "key = value "
   ]
  },
  {
   "cell_type": "markdown",
   "id": "3d9d7c25",
   "metadata": {},
   "source": [
    "## Lists in Python\n",
    "\n",
    "### What is a List?\n",
    "\n",
    "A **list** is an ordered collection of items. Think of it like a to-do list or a shopping list—you can add, remove, or change items.\n",
    "\n",
    "### Real-life Analogy:\n",
    "\n",
    "Imagine your grocery shopping list. You might start with `[\"milk\", \"bread\", \"eggs\"]`. You can add `\"cheese\"`, remove `\"milk\"`, or sort the list alphabetically.\n"
   ]
  },
  {
   "cell_type": "code",
   "execution_count": null,
   "id": "678339f6",
   "metadata": {},
   "outputs": [],
   "source": [
    "fruits = [\"apple\", \"banana\",\"cherry\"]"
   ]
  },
  {
   "cell_type": "code",
   "execution_count": 1,
   "id": "ec10133a",
   "metadata": {},
   "outputs": [
    {
     "name": "stdout",
     "output_type": "stream",
     "text": [
      "apple\n",
      "cherry\n"
     ]
    }
   ],
   "source": [
    "# Creating a list\n",
    "fruits = [\"apple\", \"banana\", \"cherry\"]\n",
    "print(fruits[0])  # Output: apple\n",
    "print(fruits[-1]) # Output: cherry"
   ]
  },
  {
   "cell_type": "code",
   "execution_count": 1,
   "id": "1f2f8e27",
   "metadata": {},
   "outputs": [
    {
     "name": "stdout",
     "output_type": "stream",
     "text": [
      "Original list: ['apple', 'banana', 'cherry']\n",
      "After append: ['apple', 'banana', 'cherry', 'orange']\n",
      "After remove: ['apple', 'cherry', 'orange']\n",
      "After pop (removed item: orange) ['apple', 'cherry']\n",
      "After pop  ['apple', 'cherry']\n",
      "After append: ['apple', 'cherry', 'grape', 'blueberry']\n",
      "After sort: ['apple', 'blueberry', 'cherry', 'grape']\n",
      "After reverse: ['grape', 'cherry', 'blueberry', 'apple']\n"
     ]
    }
   ],
   "source": [
    "# Adding, removing, and sorting\n",
    "fruits = [\"apple\", \"banana\", \"cherry\"]\n",
    "print(\"Original list:\", fruits)\n",
    "\n",
    "fruits.append(\"orange\")\n",
    "print(\"After append:\", fruits)\n",
    "\n",
    "fruits.remove(\"banana\")\n",
    "print(\"After remove:\", fruits)\n",
    "\n",
    "# pop: removes and returns the last item (or a specific index)\n",
    "popped_item = fruits.pop()\n",
    "print(\"After pop (removed item: {})\".format(popped_item), fruits)\n",
    "print(\"After pop \", fruits)\n",
    "\n",
    "fruits.append(\"grape\")\n",
    "fruits.append(\"blueberry\")\n",
    "print(\"After append:\", fruits)\n",
    "\n",
    "fruits.sort()\n",
    "print(\"After sort:\", fruits)\n",
    "\n",
    "fruits.reverse()\n",
    "print(\"After reverse:\", fruits)\n"
   ]
  },
  {
   "cell_type": "markdown",
   "id": "010e18a3",
   "metadata": {},
   "source": [
    "### Activity: Shopping List\n",
    "\n",
    "Create a shopping list and allow users to add, remove, and view items.\n"
   ]
  },
  {
   "cell_type": "code",
   "execution_count": 7,
   "id": "6cf7e2bf",
   "metadata": {},
   "outputs": [
    {
     "name": "stdout",
     "output_type": "stream",
     "text": [
      "2\n",
      "4\n",
      "6\n",
      "8\n"
     ]
    }
   ],
   "source": [
    "for item in range(2, 9, 2): # range(start, stop-1, step_interval)\n",
    "    print(item)"
   ]
  },
  {
   "cell_type": "code",
   "execution_count": 5,
   "id": "7f46b401",
   "metadata": {},
   "outputs": [
    {
     "name": "stdout",
     "output_type": "stream",
     "text": [
      "Shopping list:\n",
      "bread\n",
      "eggs\n"
     ]
    }
   ],
   "source": [
    "shopping_list = []\n",
    "\n",
    "shopping_list.append(\"milk\")\n",
    "shopping_list.append(\"bread\")\n",
    "shopping_list.append(\"eggs\")\n",
    "\n",
    "shopping_list.remove(\"milk\")\n",
    "\n",
    "print(\"Shopping list:\")\n",
    "for item in shopping_list:\n",
    "    print(item)"
   ]
  },
  {
   "cell_type": "markdown",
   "id": "3033f634",
   "metadata": {},
   "source": [
    "## Tuples in Python\n",
    "\n",
    "### What is a Tuple?\n",
    "\n",
    "A **tuple** is like a list, but you **can't change** its contents (immutable). Useful when you want to protect the data from being altered.\n",
    "\n",
    "### Real-life Analogy:\n",
    "\n",
    "Think of your birthdate: `(12, \"June\", 2010)`. It's a fact and should not be changed. So you store it in a tuple.\n"
   ]
  },
  {
   "cell_type": "code",
   "execution_count": 6,
   "id": "944aa15e",
   "metadata": {},
   "outputs": [
    {
     "name": "stdout",
     "output_type": "stream",
     "text": [
      "10\n",
      "10 20\n"
     ]
    }
   ],
   "source": [
    "# Creating a tuple\n",
    "coordinates = (10, 20)\n",
    "print(coordinates[0])  # Output: 10\n",
    "\n",
    "# Tuple unpacking\n",
    "x, y = coordinates\n",
    "print(x, y)  # Output: 10 20"
   ]
  },
  {
   "cell_type": "markdown",
   "id": "23b2c3ce",
   "metadata": {},
   "source": [
    "Tuple unpacking allows you to assign elements of a tuple (or list) directly to variables in a single line:"
   ]
  },
  {
   "cell_type": "code",
   "execution_count": 8,
   "id": "719cab12",
   "metadata": {},
   "outputs": [
    {
     "name": "stdout",
     "output_type": "stream",
     "text": [
      "Alice\n",
      "25\n",
      "Engineer\n"
     ]
    }
   ],
   "source": [
    "person = (\"Alice\", 25, \"Engineer\")\n",
    "name, age, profession = person\n",
    "\n",
    "print(name)       \n",
    "print(age)        \n",
    "print(profession) "
   ]
  },
  {
   "cell_type": "markdown",
   "id": "d7651b63",
   "metadata": {},
   "source": [
    "### Activity: Store student records using tuples\n"
   ]
  },
  {
   "cell_type": "markdown",
   "id": "191dd677",
   "metadata": {},
   "source": [
    "Store student records (name, age, grade) using tuples and display them."
   ]
  },
  {
   "cell_type": "code",
   "execution_count": 3,
   "id": "e497251b",
   "metadata": {},
   "outputs": [
    {
     "name": "stdout",
     "output_type": "stream",
     "text": [
      "Name: John\n",
      "Age: 12\n",
      "Grade: B\n",
      "Name: John\n"
     ]
    }
   ],
   "source": [
    "# Student record as a tuple\n",
    "student = (\"John\", 12, \"B\")\n",
    "print(\"Name:\", student[0])\n",
    "print(\"Age:\", student[1])\n",
    "print(\"Grade:\", student[2])\n",
    "student[0]==\"Neha\"\n",
    "print(\"Name:\", student[0])"
   ]
  },
  {
   "cell_type": "code",
   "execution_count": 4,
   "id": "09da841a",
   "metadata": {},
   "outputs": [
    {
     "name": "stdout",
     "output_type": "stream",
     "text": [
      "('apple', 'orange', 'cherry')\n"
     ]
    }
   ],
   "source": [
    "my_tuple = (\"apple\", \"banana\", \"cherry\")\n",
    "temp_list = list(my_tuple)\n",
    "temp_list[1] = \"orange\"\n",
    "my_tuple = tuple(temp_list)\n",
    "print(my_tuple) "
   ]
  },
  {
   "cell_type": "code",
   "execution_count": 9,
   "id": "af7ce9f2",
   "metadata": {},
   "outputs": [
    {
     "name": "stdout",
     "output_type": "stream",
     "text": [
      "[1, 'apple', True, 3.14]\n",
      "(42, 'hello', None, [1, 2])\n"
     ]
    }
   ],
   "source": [
    "mixed_list = [1, \"apple\", True, 3.14]\n",
    "mixed_tuple = (42, \"hello\", None, [1, 2])\n",
    "print(mixed_list)\n",
    "print(mixed_tuple)"
   ]
  },
  {
   "cell_type": "markdown",
   "id": "08e801d5",
   "metadata": {},
   "source": [
    "## Dictionaries in Python\n",
    "\n",
    "### What is a Dictionary?\n",
    "\n",
    "A **dictionary** stores data in key-value pairs. It’s like a real dictionary: you search by a word (key) and get its meaning (value).\n",
    "\n",
    "### Real-life Analogy:\n",
    "\n",
    "A phonebook is a perfect example. You search by the person's name and get their number.\n"
   ]
  },
  {
   "cell_type": "code",
   "execution_count": 8,
   "id": "e877c345",
   "metadata": {},
   "outputs": [
    {
     "name": "stdout",
     "output_type": "stream",
     "text": [
      "Alice\n",
      "{'name': 'Alice', 'age': 15, 'grade': 'A', 'school': 'ABC High School'}\n"
     ]
    }
   ],
   "source": [
    "student = {\"name\": \"Alice\", \"age\": 14, \"grade\": \"A\"}\n",
    "print(student[\"name\"]) \n",
    "\n",
    "# Adding and Updating values\n",
    "student[\"age\"] = 15\n",
    "student[\"school\"] = \"ABC High School\"\n",
    "print(student)"
   ]
  },
  {
   "cell_type": "markdown",
   "id": "014d402c",
   "metadata": {},
   "source": [
    "### Activity: Phonebook application\n"
   ]
  },
  {
   "cell_type": "markdown",
   "id": "c59628ff",
   "metadata": {},
   "source": [
    "Create a phonebook application using dictionaries where users can add and search contacts."
   ]
  },
  {
   "cell_type": "code",
   "execution_count": null,
   "id": "2b2cdc18",
   "metadata": {},
   "outputs": [
    {
     "name": "stdout",
     "output_type": "stream",
     "text": [
      "Contact not found.\n"
     ]
    }
   ],
   "source": [
    "phonebook = {}\n",
    "\n",
    "phonebook[\"John\"] = \"123-456-7890\"\n",
    "phonebook[\"Alice\"] = \"987-654-3210\"\n",
    "\n",
    "name = \"Alice\"\n",
    "if name in phonebook:\n",
    "    print(f\"{name}'s number is {phonebook[name]}\")\n",
    "else:\n",
    "    print(\"Contact not found.\")"
   ]
  },
  {
   "cell_type": "markdown",
   "id": "6870d796",
   "metadata": {},
   "source": [
    "## Sets in Python\n",
    "\n",
    "### What is a Set?\n",
    "\n",
    "A **set** is a collection of unique items. Think of it like a basket—you can’t have two of the same fruit in it.\n",
    "\n",
    "### Real-life Analogy:\n",
    "\n",
    "Imagine you’re collecting stamps. You don’t want duplicates; only unique stamps count.\n"
   ]
  },
  {
   "cell_type": "code",
   "execution_count": 14,
   "id": "89041147",
   "metadata": {},
   "outputs": [
    {
     "name": "stdout",
     "output_type": "stream",
     "text": [
      "{1, 2, 3, 4, 5}\n"
     ]
    }
   ],
   "source": [
    "numbers = {1, 2, 3, 4, 4, 5}\n",
    "print(numbers) \n",
    "\n"
   ]
  },
  {
   "cell_type": "code",
   "execution_count": 13,
   "id": "3f247076",
   "metadata": {},
   "outputs": [
    {
     "name": "stdout",
     "output_type": "stream",
     "text": [
      "{1, 2, 3, 4, 5}\n",
      "{3}\n"
     ]
    }
   ],
   "source": [
    "# Set operations\n",
    "set1 = {1, 2, 3}\n",
    "set2 = {3, 4, 5}\n",
    "print(set1.union(set2))       \n",
    "print(set1.intersection(set2))"
   ]
  },
  {
   "cell_type": "markdown",
   "id": "951e0fbf",
   "metadata": {},
   "source": [
    "### Activity: Compare two lists using sets\n"
   ]
  },
  {
   "cell_type": "markdown",
   "id": "ec776b04",
   "metadata": {},
   "source": [
    "Create a program that finds common and unique elements between two lists using sets.\n"
   ]
  },
  {
   "cell_type": "code",
   "execution_count": 10,
   "id": "c15ef372",
   "metadata": {},
   "outputs": [
    {
     "name": "stdout",
     "output_type": "stream",
     "text": [
      "{1, 2, 3, 4}\n",
      "{3, 4, 5, 6}\n",
      "Common elements: {3, 4}\n",
      "Unique elements: {1, 2, 5, 6}\n"
     ]
    }
   ],
   "source": [
    "# Compare elements using sets\n",
    "list1 = [1, 2, 3, 4]\n",
    "list2 = [3, 4, 5, 6]\n",
    "\n",
    "set1 = set(list1)\n",
    "set2 = set(list2)\n",
    "\n",
    "print(set1)\n",
    "print(set2)\n",
    "\n",
    "common = set1.intersection(set2)\n",
    "unique = set1.symmetric_difference(set2)\n",
    "\n",
    "print(\"Common elements:\", common)\n",
    "print(\"Unique elements:\", unique)"
   ]
  },
  {
   "cell_type": "markdown",
   "id": "90c18f4d",
   "metadata": {},
   "source": [
    "## Wrap-Up and Homework\n",
    "\n",
    "### Recap\n",
    "\n",
    "- **Lists** are ordered and mutable (changeable).\n",
    "- **Tuples** are ordered but immutable (fixed).\n",
    "- **Dictionaries** store key-value pairs.\n",
    "- **Sets** store unique elements and support math-like operations.\n",
    "\n",
    "### Homework\n",
    "\n",
    "1. **Word Frequency Counter**:\n",
    "Write a program that takes a sentence as input and counts the frequency of each word using a dictionary.\n",
    "\n",
    "2. **Remove Duplicates**:\n",
    "Write a program that removes duplicate numbers from a list using a set.\n"
   ]
  },
  {
   "cell_type": "markdown",
   "id": "5548e2b5",
   "metadata": {},
   "source": [
    "This is a test and this test case. {}\n",
    "This = 1\n",
    "is = 1\n",
    "a= 1\n",
    "test = 1+1 = 2\n",
    "and =1 \n",
    "case = 1\n",
    "\n",
    "key = value\n",
    "word = frequency/count"
   ]
  },
  {
   "cell_type": "code",
   "execution_count": 11,
   "id": "cdb1568f",
   "metadata": {},
   "outputs": [
    {
     "name": "stdout",
     "output_type": "stream",
     "text": [
      "Word frequencies:\n",
      "this: 1\n",
      "is: 1\n",
      "a: 1\n",
      "test: 2\n",
      "and: 1\n",
      "case: 1\n"
     ]
    }
   ],
   "source": [
    "# Get input from the user\n",
    "sentence = input(\"Enter a sentence: \")\n",
    "\n",
    "# Convert to lowercase and split into words\n",
    "words = sentence.lower().split() # lower cse + this is a test = [this, is, a, test]\n",
    "\n",
    "# Create an empty dictionary to store word frequencies\n",
    "word_count = {}\n",
    "\n",
    "# Count frequency of each word\n",
    "for word in words: # for each item in list [ this, is , a , test, and , test, case]\n",
    "    if word  in word_count: # if \"this\" is in word _count dict \n",
    "        word_count[word] = word_count[word] + 1 # +1 \n",
    "    else:\n",
    "        word_count[word] = 1\n",
    "\n",
    "# Print the result\n",
    "print(\"Word frequencies:\")\n",
    "for word, count in word_count.items():\n",
    "    print(f\"{word}: {count}\")\n"
   ]
  },
  {
   "cell_type": "markdown",
   "id": "72cb7e2f",
   "metadata": {},
   "source": [
    " list = [ this, is , a , test, and , test, case]\n",
    " dict{}dict {this, is, a, test, and  }\n",
    " for loop in the list\n",
    " 1st, this , is \"this\" in dict? \n",
    " if no, this =1 , is =1 , a= 1, test= 1 , and = 1, case =1 \n",
    " if yes, test= 1+1 = 2\n",
    "\n"
   ]
  },
  {
   "cell_type": "code",
   "execution_count": 17,
   "id": "c44fbdc2",
   "metadata": {},
   "outputs": [
    {
     "name": "stdout",
     "output_type": "stream",
     "text": [
      "Original list: [1, 2, 2, 3, 4, 4, 5, 1, 6, 3]\n",
      "List after removing duplicates: [1, 2, 3, 4, 5, 6]\n"
     ]
    }
   ],
   "source": [
    "numbers = [1, 2, 2, 3, 4, 4, 5, 1, 6, 3]\n",
    "\n",
    "unique_numbers = list(set(numbers))\n",
    "\n",
    "unique_numbers.sort()\n",
    "\n",
    "print(\"Original list:\", numbers)\n",
    "print(\"List after removing duplicates:\", unique_numbers)"
   ]
  },
  {
   "cell_type": "code",
   "execution_count": null,
   "id": "42d0559b",
   "metadata": {},
   "outputs": [],
   "source": []
  }
 ],
 "metadata": {
  "kernelspec": {
   "display_name": "Python 3",
   "language": "python",
   "name": "python3"
  },
  "language_info": {
   "codemirror_mode": {
    "name": "ipython",
    "version": 3
   },
   "file_extension": ".py",
   "mimetype": "text/x-python",
   "name": "python",
   "nbconvert_exporter": "python",
   "pygments_lexer": "ipython3",
   "version": "3.11.5"
  }
 },
 "nbformat": 4,
 "nbformat_minor": 5
}
