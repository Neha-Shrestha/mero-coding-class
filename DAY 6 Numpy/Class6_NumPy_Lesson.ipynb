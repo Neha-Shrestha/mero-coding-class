{
 "cells": [
  {
   "cell_type": "markdown",
   "id": "22827f61",
   "metadata": {},
   "source": [
    "# Class 6 – Importing Libraries and Working with NumPy\n",
    "\n",
    "## 1. Warm-Up\n",
    "\n",
    "### Why do we need external libraries in Python?\n",
    "\n",
    "Python is powerful, but not all features are built-in. External libraries help you do more with less code.\n",
    "\n",
    "### Built-in vs. External Libraries\n",
    "\n",
    "- **Built-in:** Available by default. E.g., `math`, `datetime`\n",
    "- **External:** You need to install them. E.g., `NumPy`, `Pandas`, `Matplotlib`\n",
    "\n",
    "### Popular Python Libraries\n",
    "\n",
    "- `NumPy`: Numerical operations\n",
    "- `Pandas`: Data manipulation\n",
    "- `Matplotlib`: Data visualization\n",
    "\n",
    "### Quick Demo Using a Built-in Library\n"
   ]
  },
  {
   "cell_type": "code",
   "execution_count": 1,
   "id": "8a519270",
   "metadata": {},
   "outputs": [
    {
     "name": "stdout",
     "output_type": "stream",
     "text": [
      "4.0\n"
     ]
    }
   ],
   "source": [
    "import math\n",
    "print(math.sqrt(16))  # Output: 4.0"
   ]
  },
  {
   "cell_type": "markdown",
   "id": "22c1c2e0",
   "metadata": {},
   "source": [
    "## 2. Installing and Importing Libraries\n",
    "\n",
    "### What Are Python Libraries?\n",
    "\n",
    "Think of libraries as toolboxes. Instead of building tools from scratch, you use pre-built ones.\n",
    "\n",
    "### Installing Libraries\n",
    "\n",
    "Use `pip install` from the terminal (not inside Jupyter):\n",
    "\n",
    "```bash\n",
    "pip install numpy\n",
    "```\n",
    "\n",
    "### Importing Libraries\n",
    "\n",
    "Use `import` to bring a library into your code.\n"
   ]
  },
  {
   "cell_type": "code",
   "execution_count": 1,
   "id": "62722e32",
   "metadata": {},
   "outputs": [
    {
     "name": "stdout",
     "output_type": "stream",
     "text": [
      "NumPy version: 1.26.3\n"
     ]
    }
   ],
   "source": [
    "# Importing NumPy\n",
    "import numpy as np \n",
    "\n",
    "# Check version\n",
    "print(\"NumPy version:\", np.__version__)"
   ]
  },
  {
   "cell_type": "markdown",
   "id": "e5a780df",
   "metadata": {},
   "source": [
    "## 3. Understanding NumPy Arrays\n",
    "\n",
    "### Python Lists vs NumPy Arrays\n",
    "\n",
    "- Python lists are flexible but slower.\n",
    "- NumPy arrays are faster and used for scientific computing.\n",
    "\n",
    "### Real-life Analogy:\n",
    "\n",
    "Think of Python lists like a regular car and NumPy arrays like a race car—built for speed and performance.\n",
    "\n",
    "### Creating NumPy Arrays\n"
   ]
  },
  {
   "cell_type": "code",
   "execution_count": 3,
   "id": "f74be298",
   "metadata": {},
   "outputs": [
    {
     "name": "stdout",
     "output_type": "stream",
     "text": [
      "Array: [1 2 3 4 5]\n",
      "Type: <class 'numpy.ndarray'>\n"
     ]
    }
   ],
   "source": [
    "import numpy as np\n",
    "\n",
    "# Creating a 1D NumPy array\n",
    "arr = np.array([1, 2, 3, 4, 5])\n",
    "print(\"Array:\", arr)\n",
    "print(\"Type:\", type(arr))  # <class 'numpy.ndarray'>"
   ]
  },
  {
   "cell_type": "code",
   "execution_count": 4,
   "id": "845e2a53",
   "metadata": {},
   "outputs": [
    {
     "name": "stdout",
     "output_type": "stream",
     "text": [
      "1\n"
     ]
    }
   ],
   "source": [
    "print(arr.ndim)\n"
   ]
  },
  {
   "cell_type": "code",
   "execution_count": 16,
   "id": "907e6d85",
   "metadata": {},
   "outputs": [
    {
     "data": {
      "text/plain": [
       "(5,)"
      ]
     },
     "execution_count": 16,
     "metadata": {},
     "output_type": "execute_result"
    }
   ],
   "source": [
    "arr.shape"
   ]
  },
  {
   "cell_type": "code",
   "execution_count": null,
   "id": "7813aa08",
   "metadata": {},
   "outputs": [
    {
     "name": "stdout",
     "output_type": "stream",
     "text": [
      "[[1 2]\n",
      " [3 4]]\n"
     ]
    },
    {
     "data": {
      "text/plain": [
       "(2, 2)"
      ]
     },
     "execution_count": 19,
     "metadata": {},
     "output_type": "execute_result"
    }
   ],
   "source": [
    "array = np.array([[1,2],[3,4]])\n",
    "print(array)\n",
    "array.ndim"
   ]
  },
  {
   "cell_type": "code",
   "execution_count": 21,
   "id": "09874cc0",
   "metadata": {},
   "outputs": [
    {
     "data": {
      "text/plain": [
       "(2, 2)"
      ]
     },
     "execution_count": 21,
     "metadata": {},
     "output_type": "execute_result"
    }
   ],
   "source": [
    "array.shape"
   ]
  },
  {
   "cell_type": "code",
   "execution_count": 22,
   "id": "316ca190",
   "metadata": {},
   "outputs": [
    {
     "data": {
      "text/plain": [
       "dtype('int32')"
      ]
     },
     "execution_count": 22,
     "metadata": {},
     "output_type": "execute_result"
    }
   ],
   "source": [
    "array.dtype"
   ]
  },
  {
   "cell_type": "code",
   "execution_count": 23,
   "id": "4bc35480",
   "metadata": {},
   "outputs": [
    {
     "data": {
      "text/plain": [
       "16"
      ]
     },
     "execution_count": 23,
     "metadata": {},
     "output_type": "execute_result"
    }
   ],
   "source": [
    "array.nbytes"
   ]
  },
  {
   "cell_type": "code",
   "execution_count": 4,
   "id": "da2a0090",
   "metadata": {},
   "outputs": [
    {
     "name": "stdout",
     "output_type": "stream",
     "text": [
      "Matrix: [[1 2 3]\n",
      " [4 5 6]]\n"
     ]
    }
   ],
   "source": [
    "# Creating a 2D NumPy array (Matrix)\n",
    "matrix = np.array([[1, 2, 3], [4, 5, 6]])\n",
    "print(\"Matrix:\", matrix)"
   ]
  },
  {
   "cell_type": "code",
   "execution_count": 25,
   "id": "d704227a",
   "metadata": {},
   "outputs": [
    {
     "name": "stdout",
     "output_type": "stream",
     "text": [
      "[[ 1  2  3  4  5  6  7]\n",
      " [ 8  9 10 11 12 13 14]]\n"
     ]
    }
   ],
   "source": [
    "a = np.array([[1,2,3,4,5,6,7],[8,9,10,11,12,13,14]])\n",
    "print(a)"
   ]
  },
  {
   "cell_type": "code",
   "execution_count": null,
   "id": "68db639a",
   "metadata": {},
   "outputs": [
    {
     "data": {
      "text/plain": [
       "13"
      ]
     },
     "execution_count": 26,
     "metadata": {},
     "output_type": "execute_result"
    }
   ],
   "source": [
    "# Accessing the elements:\n",
    "a[1,5] # [ row, column]"
   ]
  },
  {
   "cell_type": "code",
   "execution_count": null,
   "id": "4c05d093",
   "metadata": {},
   "outputs": [
    {
     "name": "stdout",
     "output_type": "stream",
     "text": [
      "Array: [1 2 3 4 5]\n",
      "Third element of arr: 3\n",
      "Modified array: [ 1 10  3  4  5]\n"
     ]
    }
   ],
   "source": [
    "# Accessing and modifying elements\n",
    "arr = np.array([1, 2, 3, 4, 5])\n",
    "print(\"Array:\", arr)\n",
    "\n",
    "print(\"Third element of arr:\", arr[2])  # Output: 3\n",
    "\n",
    "arr[1] = 10\n",
    "print(\"Modified array:\", arr)  # Output: [1, 10, 3, 4, 5]"
   ]
  },
  {
   "cell_type": "markdown",
   "id": "77864552",
   "metadata": {},
   "source": [
    "### Activity\n",
    "\n",
    "Create a NumPy array and experiment with indexing and slicing.\n"
   ]
  },
  {
   "cell_type": "code",
   "execution_count": 6,
   "id": "23718935",
   "metadata": {},
   "outputs": [
    {
     "name": "stdout",
     "output_type": "stream",
     "text": [
      "[[ 1  2  3  4  5  6  7]\n",
      " [ 8  9 10 11 12 13 14]]\n"
     ]
    },
    {
     "data": {
      "text/plain": [
       "array([ 8,  9, 10, 11, 12, 13, 14])"
      ]
     },
     "execution_count": 6,
     "metadata": {},
     "output_type": "execute_result"
    }
   ],
   "source": [
    "a = np.array([[1,2,3,4,5,6,7],[8,9,10,11,12,13,14]])\n",
    "print(a)\n",
    "\n",
    "a[1,:]\n"
   ]
  },
  {
   "cell_type": "code",
   "execution_count": 7,
   "id": "6a4a8f47",
   "metadata": {},
   "outputs": [
    {
     "name": "stdout",
     "output_type": "stream",
     "text": [
      "[ 4 11]\n"
     ]
    }
   ],
   "source": [
    "print(a[:,3])"
   ]
  },
  {
   "cell_type": "code",
   "execution_count": null,
   "id": "47e5c88e",
   "metadata": {},
   "outputs": [
    {
     "data": {
      "text/plain": [
       "array([2, 4, 6])"
      ]
     },
     "execution_count": 32,
     "metadata": {},
     "output_type": "execute_result"
    }
   ],
   "source": [
    "a[0, 1:6:2] # start_index : stop_index-1 : step_interval"
   ]
  },
  {
   "cell_type": "code",
   "execution_count": 34,
   "id": "d6d3d484",
   "metadata": {},
   "outputs": [
    {
     "name": "stdout",
     "output_type": "stream",
     "text": [
      "[[ 1  2  5  4  5  6  7]\n",
      " [ 8  9  5 11 12 13 14]]\n"
     ]
    }
   ],
   "source": [
    "a[:,2]= 5\n",
    "print(a)"
   ]
  },
  {
   "cell_type": "code",
   "execution_count": 35,
   "id": "37daedb4",
   "metadata": {},
   "outputs": [
    {
     "name": "stdout",
     "output_type": "stream",
     "text": [
      "[[ 1  2  5  4  5  6  1]\n",
      " [ 8  9  5 11 12 13  2]]\n"
     ]
    }
   ],
   "source": [
    "a[:,6]= [1,2]\n",
    "print(a)"
   ]
  },
  {
   "cell_type": "code",
   "execution_count": 3,
   "id": "0dae8ac8",
   "metadata": {},
   "outputs": [
    {
     "name": "stdout",
     "output_type": "stream",
     "text": [
      "Original: [10 20 30 40 50]\n",
      "First three elements: [10 20 30]\n"
     ]
    }
   ],
   "source": [
    "# Activity\n",
    "activity_array = np.array([10, 20, 30, 40, 50])\n",
    "print(\"Original:\", activity_array)\n",
    "print(\"First three elements:\", activity_array[:3])"
   ]
  },
  {
   "cell_type": "code",
   "execution_count": 8,
   "id": "afaf62b6",
   "metadata": {},
   "outputs": [
    {
     "name": "stdout",
     "output_type": "stream",
     "text": [
      "[[[1 2]\n",
      "  [3 4]\n",
      "  [5 6]]\n",
      "\n",
      " [[5 6]\n",
      "  [7 8]\n",
      "  [6 1]]]\n"
     ]
    }
   ],
   "source": [
    "# 3D array\n",
    "\n",
    "b = np.array([[[1,2],[3,4],[5,6]], [[5,6],[7,8],[6,1]]])\n",
    "print(b)"
   ]
  },
  {
   "cell_type": "code",
   "execution_count": 37,
   "id": "2225de17",
   "metadata": {},
   "outputs": [
    {
     "data": {
      "text/plain": [
       "8"
      ]
     },
     "execution_count": 37,
     "metadata": {},
     "output_type": "execute_result"
    }
   ],
   "source": [
    "b[1,1,1]"
   ]
  },
  {
   "cell_type": "markdown",
   "id": "a326a0f0",
   "metadata": {},
   "source": [
    "# Initializing Different Types of Arrays"
   ]
  },
  {
   "cell_type": "code",
   "execution_count": 38,
   "id": "3bfaf04f",
   "metadata": {},
   "outputs": [
    {
     "data": {
      "text/plain": [
       "array([0., 0., 0.])"
      ]
     },
     "execution_count": 38,
     "metadata": {},
     "output_type": "execute_result"
    }
   ],
   "source": [
    "np.zeros(3)"
   ]
  },
  {
   "cell_type": "code",
   "execution_count": 39,
   "id": "d12d6eb1",
   "metadata": {},
   "outputs": [
    {
     "data": {
      "text/plain": [
       "array([[0., 0., 0.],\n",
       "       [0., 0., 0.]])"
      ]
     },
     "execution_count": 39,
     "metadata": {},
     "output_type": "execute_result"
    }
   ],
   "source": [
    "np.zeros((2,3))"
   ]
  },
  {
   "cell_type": "code",
   "execution_count": 40,
   "id": "2b837491",
   "metadata": {},
   "outputs": [
    {
     "data": {
      "text/plain": [
       "array([[[0., 0., 0.],\n",
       "        [0., 0., 0.],\n",
       "        [0., 0., 0.]],\n",
       "\n",
       "       [[0., 0., 0.],\n",
       "        [0., 0., 0.],\n",
       "        [0., 0., 0.]]])"
      ]
     },
     "execution_count": 40,
     "metadata": {},
     "output_type": "execute_result"
    }
   ],
   "source": [
    "np.zeros((2,3,3))"
   ]
  },
  {
   "cell_type": "code",
   "execution_count": 9,
   "id": "8dca9b97",
   "metadata": {},
   "outputs": [
    {
     "data": {
      "text/plain": [
       "array([1., 1.])"
      ]
     },
     "execution_count": 9,
     "metadata": {},
     "output_type": "execute_result"
    }
   ],
   "source": [
    "np.ones(2)"
   ]
  },
  {
   "cell_type": "code",
   "execution_count": 41,
   "id": "c83867e7",
   "metadata": {},
   "outputs": [
    {
     "data": {
      "text/plain": [
       "array([[[1., 1.],\n",
       "        [1., 1.]],\n",
       "\n",
       "       [[1., 1.],\n",
       "        [1., 1.]],\n",
       "\n",
       "       [[1., 1.],\n",
       "        [1., 1.]],\n",
       "\n",
       "       [[1., 1.],\n",
       "        [1., 1.]]])"
      ]
     },
     "execution_count": 41,
     "metadata": {},
     "output_type": "execute_result"
    }
   ],
   "source": [
    "np.ones((4,2,2))"
   ]
  },
  {
   "cell_type": "code",
   "execution_count": 42,
   "id": "45715d78",
   "metadata": {},
   "outputs": [
    {
     "data": {
      "text/plain": [
       "array([[99, 99],\n",
       "       [99, 99]])"
      ]
     },
     "execution_count": 42,
     "metadata": {},
     "output_type": "execute_result"
    }
   ],
   "source": [
    "np.full((2,2),99)"
   ]
  },
  {
   "cell_type": "code",
   "execution_count": 43,
   "id": "1bd09971",
   "metadata": {},
   "outputs": [
    {
     "data": {
      "text/plain": [
       "array([[4, 4, 4, 4, 4, 4, 4],\n",
       "       [4, 4, 4, 4, 4, 4, 4]])"
      ]
     },
     "execution_count": 43,
     "metadata": {},
     "output_type": "execute_result"
    }
   ],
   "source": [
    "np.full_like(a,4)"
   ]
  },
  {
   "cell_type": "code",
   "execution_count": 10,
   "id": "e5058d21",
   "metadata": {},
   "outputs": [
    {
     "data": {
      "text/plain": [
       "array([[0.58523502, 0.46421113],\n",
       "       [0.69870877, 0.75988826],\n",
       "       [0.00636589, 0.85049656],\n",
       "       [0.28163247, 0.86443014]])"
      ]
     },
     "execution_count": 10,
     "metadata": {},
     "output_type": "execute_result"
    }
   ],
   "source": [
    "np.random.rand(4,2)"
   ]
  },
  {
   "cell_type": "code",
   "execution_count": 45,
   "id": "c6ed2b94",
   "metadata": {},
   "outputs": [
    {
     "data": {
      "text/plain": [
       "array([[1., 0., 0., 0., 0.],\n",
       "       [0., 1., 0., 0., 0.],\n",
       "       [0., 0., 1., 0., 0.],\n",
       "       [0., 0., 0., 1., 0.],\n",
       "       [0., 0., 0., 0., 1.]])"
      ]
     },
     "execution_count": 45,
     "metadata": {},
     "output_type": "execute_result"
    }
   ],
   "source": [
    "np.identity(5)"
   ]
  },
  {
   "cell_type": "markdown",
   "id": "e3df664f",
   "metadata": {},
   "source": [
    "## 4. Mathematical Operations on Arrays\n",
    "\n",
    "### Element-wise Operations\n",
    "\n",
    "Each element operates with its counterpart.\n",
    "\n",
    "### Broadcasting\n",
    "\n",
    "Operations between arrays of different shapes.\n",
    "\n",
    "### Aggregation Functions\n",
    "\n",
    "Functions like sum, mean, max that work across the array.\n"
   ]
  },
  {
   "cell_type": "code",
   "execution_count": 48,
   "id": "b1cfd004",
   "metadata": {},
   "outputs": [
    {
     "data": {
      "text/plain": [
       "array([3, 4, 5, 6])"
      ]
     },
     "execution_count": 48,
     "metadata": {},
     "output_type": "execute_result"
    }
   ],
   "source": [
    "a = np.array([1,2,3,4])\n",
    "a+2"
   ]
  },
  {
   "cell_type": "code",
   "execution_count": null,
   "id": "65bb38f5",
   "metadata": {},
   "outputs": [],
   "source": [
    "# Element-wise arithmetic\n",
    "arr1 = np.array([1, 2, 3])\n",
    "arr2 = np.array([4, 5, 6])\n",
    "print(\"Sum:\", arr1 + arr2)       # [5 7 9]\n",
    "print(\"Product:\", arr1 * arr2)   # [4 10 18]"
   ]
  },
  {
   "cell_type": "code",
   "execution_count": null,
   "id": "168079e8",
   "metadata": {},
   "outputs": [],
   "source": [
    "# Broadcasting\n",
    "arr = np.array([1, 2, 3])\n",
    "print(\"Broadcasted:\", arr * 2)   # [2 4 6]"
   ]
  },
  {
   "cell_type": "code",
   "execution_count": null,
   "id": "9aeb275c",
   "metadata": {},
   "outputs": [],
   "source": [
    "# Aggregation functions\n",
    "numbers = np.array([10, 20, 30, 40])\n",
    "print(\"Mean:\", np.mean(numbers))  # 25.0\n",
    "print(\"Sum:\", np.sum(numbers))    # 100\n",
    "print(\"Max:\", np.max(numbers))    # 40"
   ]
  },
  {
   "cell_type": "markdown",
   "id": "4b8d0d44",
   "metadata": {},
   "source": [
    "### Activity\n",
    "\n",
    "Multiply two arrays and calculate the sum.\n"
   ]
  },
  {
   "cell_type": "code",
   "execution_count": 11,
   "id": "58556ff7",
   "metadata": {},
   "outputs": [
    {
     "name": "stdout",
     "output_type": "stream",
     "text": [
      "Element-wise product: [ 2 12 30]\n",
      "Sum of result: 44\n"
     ]
    }
   ],
   "source": [
    "# Activity\n",
    "a = np.array([2, 4, 6])\n",
    "b = np.array([1, 3, 5])\n",
    "product = a * b\n",
    "print(\"Element-wise product:\", product)\n",
    "print(\"Sum of result:\", np.sum(product))"
   ]
  },
  {
   "cell_type": "markdown",
   "id": "e2915b8e",
   "metadata": {},
   "source": [
    "## 5. Matrix Operations Using NumPy\n",
    "\n",
    "### Matrix Multiplication\n",
    "\n",
    "Use `np.dot()` or `@` for matrix multiplication.\n",
    "\n",
    "### Transpose\n",
    "\n",
    "Swap rows with columns.\n",
    "\n",
    "### Identity Matrix\n",
    "\n",
    "Square matrix with 1s on diagonal and 0s elsewhere.\n"
   ]
  },
  {
   "cell_type": "code",
   "execution_count": 12,
   "id": "09b2cd93",
   "metadata": {},
   "outputs": [
    {
     "name": "stdout",
     "output_type": "stream",
     "text": [
      "Matrix C: [[19 22]\n",
      " [43 50]]\n"
     ]
    }
   ],
   "source": [
    "# Matrix multiplication\n",
    "A = np.array([[1, 2], [3, 4]]) # 2*2\n",
    "B = np.array([[5, 6], [7, 8]])# 2*2\n",
    "C = np.matmul(A, B) # np.dot(A,B)\n",
    "print(\"Matrix C:\", C)"
   ]
  },
  {
   "cell_type": "code",
   "execution_count": 13,
   "id": "63c1e82c",
   "metadata": {},
   "outputs": [
    {
     "name": "stdout",
     "output_type": "stream",
     "text": [
      "[[1 2]\n",
      " [3 4]]\n"
     ]
    }
   ],
   "source": [
    "A = np.array([[1, 2], [3, 4]])\n",
    "print(A)"
   ]
  },
  {
   "cell_type": "code",
   "execution_count": 14,
   "id": "731e0909",
   "metadata": {},
   "outputs": [
    {
     "name": "stdout",
     "output_type": "stream",
     "text": [
      "Transpose of A: [[1 3]\n",
      " [2 4]]\n"
     ]
    }
   ],
   "source": [
    "# Transpose of a matrix\n",
    "print(\"Transpose of A:\", A.T)"
   ]
  },
  {
   "cell_type": "code",
   "execution_count": null,
   "id": "c8d7e2cf",
   "metadata": {},
   "outputs": [],
   "source": [
    "# Identity matrix\n",
    "I = np.eye(3)\n",
    "print(\"3x3 Identity Matrix:\", I)"
   ]
  },
  {
   "cell_type": "markdown",
   "id": "4db859aa",
   "metadata": {},
   "source": [
    "### Activity\n",
    "\n",
    "Multiply two matrices and find their transpose.\n"
   ]
  },
  {
   "cell_type": "code",
   "execution_count": null,
   "id": "1254b5f5",
   "metadata": {},
   "outputs": [],
   "source": [
    "# Activity\n",
    "X = np.array([[2, 0], [1, 3]])\n",
    "Y = np.array([[4, 1], [2, 2]])\n",
    "result = np.dot(X, Y)\n",
    "print(\"Matrix multiplication result:\", result)\n",
    "print(\"Transpose:\", result.T)"
   ]
  },
  {
   "cell_type": "markdown",
   "id": "09bcd0ab",
   "metadata": {},
   "source": [
    "## 6. Wrap-Up and Homework\n",
    "\n",
    "### Recap\n",
    "\n",
    "- Libraries extend Python's capabilities.\n",
    "- NumPy arrays are more efficient than lists for numerical tasks.\n",
    "- Mathematical and matrix operations are easy with NumPy.\n",
    "\n",
    "### Homework\n",
    "\n",
    "1. Write a Python program to create a NumPy array and perform arithmetic operations.\n",
    "2. Write a program that multiplies two matrices and finds their transpose.\n"
   ]
  },
  {
   "cell_type": "code",
   "execution_count": null,
   "id": "f9ac41c5",
   "metadata": {},
   "outputs": [],
   "source": [
    "import numpy as np\n",
    "\n",
    "# Create a NumPy array\n",
    "array1 = np.array([10, 20, 30, 40, 50])\n",
    "array2 = np.array([1, 2, 3, 4, 5])\n",
    "\n",
    "# Display the original arrays\n",
    "print(\"Array 1:\", array1)\n",
    "print(\"Array 2:\", array2)\n",
    "\n",
    "# Perform arithmetic operations\n",
    "addition = array1 + array2\n",
    "subtraction = array1 - array2\n",
    "multiplication = array1 * array2\n",
    "division = array1 / array2\n",
    "\n",
    "# Display the results\n",
    "print(\"\\nAddition:\", addition)\n",
    "print(\"Subtraction:\", subtraction)\n",
    "print(\"Multiplication:\", multiplication)\n",
    "print(\"Division:\", division)\n"
   ]
  },
  {
   "cell_type": "code",
   "execution_count": null,
   "id": "767828f5",
   "metadata": {},
   "outputs": [],
   "source": [
    "import numpy as np\n",
    "\n",
    "# Define two matrices\n",
    "A = np.array([[1, 2],\n",
    "              [3, 4]])\n",
    "\n",
    "B = np.array([[5, 6],\n",
    "              [7, 8]])\n",
    "\n",
    "# Multiply the matrices\n",
    "product = np.dot(A, B)\n",
    "\n",
    "# Find the transpose of the result\n",
    "transpose = product.T\n",
    "\n",
    "# Display the matrices and results\n",
    "print(\"Matrix A:\\n\", A)\n",
    "print(\"Matrix B:\\n\", B)\n",
    "print(\"\\nProduct of A and B:\\n\", product)\n",
    "print(\"\\nTranspose of the product:\\n\", transpose)\n"
   ]
  },
  {
   "cell_type": "code",
   "execution_count": null,
   "id": "ff9b095b",
   "metadata": {},
   "outputs": [],
   "source": []
  }
 ],
 "metadata": {
  "kernelspec": {
   "display_name": "Python 3",
   "language": "python",
   "name": "python3"
  },
  "language_info": {
   "codemirror_mode": {
    "name": "ipython",
    "version": 3
   },
   "file_extension": ".py",
   "mimetype": "text/x-python",
   "name": "python",
   "nbconvert_exporter": "python",
   "pygments_lexer": "ipython3",
   "version": "3.11.5"
  }
 },
 "nbformat": 4,
 "nbformat_minor": 5
}
